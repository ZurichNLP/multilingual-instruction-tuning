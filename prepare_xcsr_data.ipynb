{
 "cells": [
  {
   "cell_type": "code",
   "execution_count": 24,
   "metadata": {},
   "outputs": [],
   "source": [
    "from pathlib import Path\n",
    "import pandas as pd\n",
    "import json"
   ]
  },
  {
   "cell_type": "code",
   "execution_count": 25,
   "metadata": {},
   "outputs": [],
   "source": [
    "csqa_task_description_en = \"\"\"\n",
    "### Human: You will be presented with a question in {language} that has multiple possible answers. Choose the most suitable option out of \"A\", \"B\", \"C\", \"D\", and \"E\", based on your commonsense knowledge.\n",
    "\n",
    "Question:\n",
    "\n",
    "{question}\n",
    "\n",
    "Options:\n",
    "\n",
    "A: {answer_a}\n",
    "B: {answer_b}\n",
    "C: {answer_c}\n",
    "D: {answer_d}\n",
    "E: {answer_e} \n",
    "\n",
    "### Assistant: Given the answers \"A\", \"B\", \"C\", \"D\", or \"E\", the most logical answer is \\\"\"\"\"\n",
    "\n",
    "# csqa_task_description_de = \"\"\"\n",
    "# ### Human: Es wird eine Frage gestellt, die mehrere Antwortmöglichkeiten hat. Wähle aus den Antwortmöglichkeiten \"A\", \"B\", \"C\", \"D\" und \"E\" diejenige aus, die deinem gesunden Menschenverstand am ehesten entspricht.\n",
    "\n",
    "# Frage:\n",
    "\n",
    "# {question}\n",
    "\n",
    "# Optionen:\n",
    "\n",
    "# A: {answer_a}\n",
    "# B: {answer_b}\n",
    "# C: {answer_c}\n",
    "# D: {answer_d}\n",
    "# E: {answer_e} \n",
    "\n",
    "# ### Assistant: Die logischste Antwort ist \"\"\"\n",
    "\n",
    "\n",
    "# langauge_prompt = {\n",
    "#     'en': csqa_task_description_en,\n",
    "#     'es': csqa_task_description_en,\n",
    "#     'de': csqa_task_description_en\n",
    "# }"
   ]
  },
  {
   "cell_type": "code",
   "execution_count": 26,
   "metadata": {},
   "outputs": [
    {
     "name": "stdout",
     "output_type": "stream",
     "text": [
      "Finished writing en data. Wrote 1000 items.\n",
      "Finished writing de data. Wrote 1000 items.\n",
      "Finished writing es data. Wrote 1000 items.\n",
      "Finished writing fr data. Wrote 1000 items.\n",
      "Finished writing hi data. Wrote 1000 items.\n",
      "Finished writing ru data. Wrote 1000 items.\n"
     ]
    }
   ],
   "source": [
    "raw_data = Path('/srv/scratch1/kew/X-CSR_datasets/X-CSQA')\n",
    "languages = {\n",
    "    'en': 'English',\n",
    "    'de': 'German', \n",
    "    'es': 'Spanish',\n",
    "    'fr': 'French', \n",
    "    'hi': 'Hindi', \n",
    "    'ru': 'Russian', \n",
    "    # 'sw': 'Swahili'\n",
    "}\n",
    "for lang_tag, lang_name in languages.items():\n",
    "\n",
    "    data = pd.read_json(raw_data / lang_tag / 'dev.jsonl', lines=True)\n",
    "    with open(f'data/xcsr_dev_en_{lang_tag[:2]}.json', 'w', encoding='utf8') as outf:\n",
    "        for i, row in data.iterrows():\n",
    "            question = row['question']['stem']\n",
    "            answer_a = row['question']['choices'][0]['text']\n",
    "            answer_b = row['question']['choices'][1]['text']\n",
    "            answer_c = row['question']['choices'][2]['text']\n",
    "            answer_d = row['question']['choices'][3]['text']\n",
    "            answer_e = row['question']['choices'][4]['text']\n",
    "            \n",
    "            answer_key = row['answerKey']\n",
    "            answer_text = row['question']['choices'][ord(answer_key) - ord('A')]['text']\n",
    "            formatted_item = {\n",
    "                'instruction': csqa_task_description_en.format(language=lang_name, question=question, answer_a=answer_a, answer_b=answer_b, answer_c=answer_c, answer_d=answer_d, answer_e=answer_e).strip(),\n",
    "                'answer': [answer_key, answer_text],\n",
    "                'question': question,\n",
    "                'options': [answer_a, answer_b, answer_c, answer_d, answer_e],\n",
    "            }\n",
    "            outf.write(f'{json.dumps(formatted_item, ensure_ascii=False)}\\n')\n",
    "        \n",
    "    print(f'Finished writing {lang_tag} data. Wrote {len(data)} items.')"
   ]
  },
  {
   "cell_type": "code",
   "execution_count": 4,
   "metadata": {},
   "outputs": [
    {
     "data": {
      "text/plain": [
       "{'stem': 'The dental office handled a lot of patients who experienced traumatic mouth injury, where were these patients coming from?',\n",
       " 'choices': [{'label': 'A', 'text': 'town'},\n",
       "  {'label': 'B', 'text': 'michigan'},\n",
       "  {'label': 'C', 'text': 'hospital'},\n",
       "  {'label': 'D', 'text': 'schools'},\n",
       "  {'label': 'E', 'text': 'office building'}]}"
      ]
     },
     "execution_count": 4,
     "metadata": {},
     "output_type": "execute_result"
    }
   ],
   "source": [
    "data['question'][0]"
   ]
  },
  {
   "cell_type": "code",
   "execution_count": null,
   "metadata": {},
   "outputs": [],
   "source": []
  }
 ],
 "metadata": {
  "kernelspec": {
   "display_name": "vllm",
   "language": "python",
   "name": "python3"
  },
  "language_info": {
   "codemirror_mode": {
    "name": "ipython",
    "version": 3
   },
   "file_extension": ".py",
   "mimetype": "text/x-python",
   "name": "python",
   "nbconvert_exporter": "python",
   "pygments_lexer": "ipython3",
   "version": "3.10.0"
  }
 },
 "nbformat": 4,
 "nbformat_minor": 2
}
