{
 "cells": [
  {
   "cell_type": "code",
   "execution_count": 28,
   "metadata": {},
   "outputs": [],
   "source": [
    "from pathlib import Path\n",
    "import pandas as pd\n",
    "import json\n",
    "from datasets import load_dataset"
   ]
  },
  {
   "cell_type": "code",
   "execution_count": 29,
   "metadata": {},
   "outputs": [],
   "source": [
    "# xquad_task_description_en = \"\"\"\n",
    "# ### Human: Answer the question based on the given passage. Your answer must be a single entity, name, or number extracted directly from the passage. Begin your response with, 'Based on the passage, the answer to the question is', followed by the answer and a new line. Do not include any other information in your response.\n",
    "\n",
    "# Passage:\n",
    "\n",
    "# {context}\n",
    "\n",
    "# Question:\n",
    "\n",
    "# {question}\n",
    "\n",
    "# ### Assistant:\n",
    "# \"\"\"\n",
    "\n",
    "# # Respond with 'Based on the passage, the answer to the question is' followed by your answer on a new line.\n",
    "\n",
    "xquad_task_description_en = \"\"\"\n",
    "### Human: Answer the question from the given passage. Your answer should be directly extracted from the passage, and it should be a single entity, name, or number, not a sentence.\n",
    "\n",
    "Passage:\n",
    "\n",
    "{context}\n",
    "\n",
    "Question:\n",
    "\n",
    "{question}\n",
    "\n",
    "Note: Your answer should be directly extracted from the passage and be a single entity, name, or number. Provide the answer in quotations.### Assistant: Based on the passage, the answer to the question is \"\n",
    "\"\"\"\n",
    "\n",
    "# fabian\n",
    "xquad_task_description_de = \"\"\"\n",
    "### Human: Beantworte die Frage anhand des vorgegebenen Textes. Deine Antwort muss direkt aus dem Text entnommen sein und aus einer einzelnen Einheit, einem Namen oder einer Zahl bestehen. Deine Antwort darf nicht aus einem Satz bestehen.\n",
    "\n",
    "Text:\n",
    "\n",
    "{context}\n",
    "\n",
    "Frage:\n",
    "\n",
    "{question}\n",
    "\n",
    "Hinweis: Deine Antwort muss direkt aus dem Text entnommen werden und aus einer einzigen Einheit, einem Namen oder einer Zahl bestehen. Setze die Antwort in Anführungs- und Schlusszeichen.### Assistant: Anhand des Textes lautet die Antwort auf die Frage „\n",
    "\"\"\"\n",
    "\n",
    "# janine\n",
    "xquad_task_description_es = \"\"\"\n",
    "### Human: Responda a la pregunta a partir del pasaje dado. Tu respuesta debe ser extraída directamente del texto, y debe ser una sola entidad, nombre o número, no una frase.\n",
    "\n",
    "Texto:\n",
    "\n",
    "{context}\n",
    "\n",
    "Pregunta:\n",
    "\n",
    "{question}\n",
    "\n",
    "Nota: Tu respuesta debe ser extraída directamente del texto y debe ser una sola entidad, nombre o número. Presenta la respuesta entre comillas.### Assistant: Basándose en el texto, la respuesta a la pregunta es «\n",
    "\"\"\"\n",
    "\n",
    "# anastassia\n",
    "xquad_task_description_ru = \"\"\"\n",
    "### Human: Ответь на вопрос из приведенного отрывка. Твой ответ должен быть непосредственно извлечен из отрывка и содержать только один элемент, будь это предмет, имя или число. Ответ не должен быть целым предложением.\n",
    "\n",
    "Отрывок:\n",
    "\n",
    "{context}\n",
    "\n",
    "Вопрос:\n",
    "\n",
    "{question}\n",
    "\n",
    "Внимание: Ваш ответ должен быть непосредственно взят из отрывка и представлять собой один предмет, имя или число. Укажите ответ в кавычках.### Assistant: Исходя из отрывка, ответ на вопрос: «\n",
    "\"\"\"\n",
    "\n",
    "# # andrianos\n",
    "# xquad_task_description_el = \"\"\"\n",
    "# ### Human: απάντησε στην ερώτηση από το δοθέν απόσπασμα. Η απάντησή σου πρέπει να ληφθεί επί λέξει από το απόσπασμα, και πρέπει να είναι μια οντότητα, ένας αριθμός ή ένα όνομα, όχι μια πρόταση.\n",
    "\n",
    "# Απόσπασμα:\n",
    "\n",
    "# {context}\n",
    "\n",
    "# Ερώτηση:\n",
    "\n",
    "# {question}\n",
    "\n",
    "# Σημείωση: Η απάντησή σου θα πρέπει να ληφθεί επί λέξει από το απόσπασμα και πρέπει να είναι μια οντότητα, ένα όνομα ή ένας αριθμός. Δώσε την απάντηση σε εισαγωγικά.\n",
    "# ### Assistant: Δεδομένου του κειμένου, η απάντηση στην ερώτηση είναι «\n",
    "# \"\"\"\n",
    "\n",
    "# cui\n",
    "xquad_task_description_zh = \"\"\"\n",
    "### Human：请根据给定的段落回答问题。你的答案应直接提取自该段落，且应该为一个专有名词、名字或数字，而不是一个句子。\n",
    "\n",
    "段落：\n",
    "\n",
    "{context}\n",
    "\n",
    "问题：\n",
    "\n",
    "{question}\n",
    "\n",
    "请注意：你的答案应直接摘自该段落， 且为一个专有名词，名字或数字。请在引号中给出答案。 ### Assistant：根据这段文字，该问题的答案是 \"\n",
    "\"\"\"\n",
    "\n",
    "\n",
    "language_prompts = {\n",
    "    'en': xquad_task_description_en,\n",
    "    'es': xquad_task_description_es,\n",
    "    'de': xquad_task_description_de,\n",
    "    'ru': xquad_task_description_ru,\n",
    "    # 'hi': xquad_task_description_hi,\n",
    "    # 'el': xquad_task_description_el,\n",
    "    'zh': xquad_task_description_zh\n",
    "}\n",
    "\n",
    "\n"
   ]
  },
  {
   "cell_type": "code",
   "execution_count": 31,
   "metadata": {},
   "outputs": [
    {
     "name": "stderr",
     "output_type": "stream",
     "text": [
      "Found cached dataset xquad (/home/user/kew/.cache/huggingface/datasets/xquad/xquad.en/1.0.0/39e1ff0497cbbfb79bbff61024031c10872bbd7c4fd8bc250207a965c39d3336)\n",
      "100%|██████████| 1/1 [00:00<00:00, 316.46it/s]\n"
     ]
    },
    {
     "name": "stdout",
     "output_type": "stream",
     "text": [
      "Dataset({\n",
      "    features: ['id', 'context', 'question', 'answers'],\n",
      "    num_rows: 1190\n",
      "})\n",
      "{'instruction': '### Human: Answer the question from the given passage. Your answer should be directly extracted from the passage, and it should be a single entity, name, or number, not a sentence.\\n\\nPassage:\\n\\nThe Panthers defense gave up just 308 points, ranking sixth in the league, while also leading the NFL in interceptions with 24 and boasting four Pro Bowl selections. Pro Bowl defensive tackle Kawann Short led the team in sacks with 11, while also forcing three fumbles and recovering two. Fellow lineman Mario Addison added 6½ sacks. The Panthers line also featured veteran defensive end Jared Allen, a 5-time pro bowler who was the NFL\\'s active career sack leader with 136, along with defensive end Kony Ealy, who had 5 sacks in just 9 starts. Behind them, two of the Panthers three starting linebackers were also selected to play in the Pro Bowl: Thomas Davis and Luke Kuechly. Davis compiled 5½ sacks, four forced fumbles, and four interceptions, while Kuechly led the team in tackles (118) forced two fumbles, and intercepted four passes of his own. Carolina\\'s secondary featured Pro Bowl safety Kurt Coleman, who led the team with a career high seven interceptions, while also racking up 88 tackles and Pro Bowl cornerback Josh Norman, who developed into a shutdown corner during the season and had four interceptions, two of which were returned for touchdowns.\\n\\nQuestion:\\n\\nHow many points did the Panthers defense surrender?\\n\\nNote: Your answer should be directly extracted from the passage and be a single entity, name, or number. Provide the answer in quotations.### Assistant: Based on the passage, the answer to the question is \"', 'answer': '308'}\n",
      "{'instruction': '### Human: Answer the question from the given passage. Your answer should be directly extracted from the passage, and it should be a single entity, name, or number, not a sentence.\\n\\nPassage:\\n\\nThe Panthers defense gave up just 308 points, ranking sixth in the league, while also leading the NFL in interceptions with 24 and boasting four Pro Bowl selections. Pro Bowl defensive tackle Kawann Short led the team in sacks with 11, while also forcing three fumbles and recovering two. Fellow lineman Mario Addison added 6½ sacks. The Panthers line also featured veteran defensive end Jared Allen, a 5-time pro bowler who was the NFL\\'s active career sack leader with 136, along with defensive end Kony Ealy, who had 5 sacks in just 9 starts. Behind them, two of the Panthers three starting linebackers were also selected to play in the Pro Bowl: Thomas Davis and Luke Kuechly. Davis compiled 5½ sacks, four forced fumbles, and four interceptions, while Kuechly led the team in tackles (118) forced two fumbles, and intercepted four passes of his own. Carolina\\'s secondary featured Pro Bowl safety Kurt Coleman, who led the team with a career high seven interceptions, while also racking up 88 tackles and Pro Bowl cornerback Josh Norman, who developed into a shutdown corner during the season and had four interceptions, two of which were returned for touchdowns.\\n\\nQuestion:\\n\\nHow many points did the Panthers defense surrender?\\n\\nNote: Your answer should be directly extracted from the passage and be a single entity, name, or number. Provide the answer in quotations.### Assistant: Based on the passage, the answer to the question is \"', 'answer': '308'}\n",
      "Finished writing en data. Wrote 1190 items.\n"
     ]
    },
    {
     "name": "stderr",
     "output_type": "stream",
     "text": [
      "Found cached dataset xquad (/home/user/kew/.cache/huggingface/datasets/xquad/xquad.es/1.0.0/39e1ff0497cbbfb79bbff61024031c10872bbd7c4fd8bc250207a965c39d3336)\n",
      "100%|██████████| 1/1 [00:00<00:00, 349.12it/s]\n"
     ]
    },
    {
     "name": "stdout",
     "output_type": "stream",
     "text": [
      "Dataset({\n",
      "    features: ['id', 'context', 'question', 'answers'],\n",
      "    num_rows: 1190\n",
      "})\n",
      "{'instruction': '### Human: Answer the question from the given passage. Your answer should be directly extracted from the passage, and it should be a single entity, name, or number, not a sentence.\\n\\nPassage:\\n\\n\\ufeffLos Panthers, que además de liderar las intercepciones de la NFL con 24 y contar con cuatro jugadores de la Pro Bowl, cedieron solo 308 puntos en defensa y se sitúan en el sexto lugar de la liga. Kawann Short, tacle defensivo de la Pro Bowl, lideró al equipo con 11 capturas, 3 balones sueltos forzados y 2 recuperaciones. A su vez, el liniero Mario Addison, consiguió 6 capturas y media. En la línea de los Panthers, también destacó como ala defensiva el veterano Jared Allen ―5 veces jugador de la Pro Bowl y que fue el líder, en activo, de capturas de la NFL con 136― junto con el también ala defensiva Kony Ealy, que lleva 5 capturas en solo 9 partidos como titular. Detrás de ellos, Thomas Davis y Luke Kuechly, dos de los tres apoyadores titulares que también han sido seleccionados para jugar la Pro Bowl. Davis se hizo con 5 capturas y media, 4 balones sueltos forzados y 4 intercepciones, mientras que Kuechly lideró al equipo en derribos (118), forzó 2 balones sueltos e interceptó 4 pases. La secundaria de Carolina contó, por un lado, con la seguridad del jugador de la Pro Bowl Kurt Coleman que asumió las riendas del equipo gracias a sus 7 intercepciones (nunca había conseguido tantas hasta ahora) y a sus 88 derribos, y, por otro lado, con el esquinero Josh Norman, también jugador de la Pro Bowl y que a pesar de haber estado de capa caída durante la temporada, consiguió 4 intercepciones, de las cuales dos se convirtieron en touchdowns.\\n\\nQuestion:\\n\\n¿Cuántos puntos dejaron escapar en defensa los Panthers?\\n\\nNote: Your answer should be directly extracted from the passage and be a single entity, name, or number. Provide the answer in quotations.### Assistant: Based on the passage, the answer to the question is \"', 'answer': '308'}\n",
      "{'instruction': '### Human: Responda a la pregunta a partir del pasaje dado. Tu respuesta debe ser extraída directamente del texto, y debe ser una sola entidad, nombre o número, no una frase.\\n\\nTexto:\\n\\n\\ufeffLos Panthers, que además de liderar las intercepciones de la NFL con 24 y contar con cuatro jugadores de la Pro Bowl, cedieron solo 308 puntos en defensa y se sitúan en el sexto lugar de la liga. Kawann Short, tacle defensivo de la Pro Bowl, lideró al equipo con 11 capturas, 3 balones sueltos forzados y 2 recuperaciones. A su vez, el liniero Mario Addison, consiguió 6 capturas y media. En la línea de los Panthers, también destacó como ala defensiva el veterano Jared Allen ―5 veces jugador de la Pro Bowl y que fue el líder, en activo, de capturas de la NFL con 136― junto con el también ala defensiva Kony Ealy, que lleva 5 capturas en solo 9 partidos como titular. Detrás de ellos, Thomas Davis y Luke Kuechly, dos de los tres apoyadores titulares que también han sido seleccionados para jugar la Pro Bowl. Davis se hizo con 5 capturas y media, 4 balones sueltos forzados y 4 intercepciones, mientras que Kuechly lideró al equipo en derribos (118), forzó 2 balones sueltos e interceptó 4 pases. La secundaria de Carolina contó, por un lado, con la seguridad del jugador de la Pro Bowl Kurt Coleman que asumió las riendas del equipo gracias a sus 7 intercepciones (nunca había conseguido tantas hasta ahora) y a sus 88 derribos, y, por otro lado, con el esquinero Josh Norman, también jugador de la Pro Bowl y que a pesar de haber estado de capa caída durante la temporada, consiguió 4 intercepciones, de las cuales dos se convirtieron en touchdowns.\\n\\nPregunta:\\n\\n¿Cuántos puntos dejaron escapar en defensa los Panthers?\\n\\nNota: Tu respuesta debe ser extraída directamente del texto y debe ser una sola entidad, nombre o número. Presenta la respuesta entre comillas.### Assistant: Basándose en el texto, la respuesta a la pregunta es «', 'answer': '308'}\n",
      "Finished writing es data. Wrote 1190 items.\n"
     ]
    },
    {
     "name": "stderr",
     "output_type": "stream",
     "text": [
      "Found cached dataset xquad (/home/user/kew/.cache/huggingface/datasets/xquad/xquad.de/1.0.0/39e1ff0497cbbfb79bbff61024031c10872bbd7c4fd8bc250207a965c39d3336)\n",
      "100%|██████████| 1/1 [00:00<00:00, 377.32it/s]\n"
     ]
    },
    {
     "name": "stdout",
     "output_type": "stream",
     "text": [
      "Dataset({\n",
      "    features: ['id', 'context', 'question', 'answers'],\n",
      "    num_rows: 1190\n",
      "})\n",
      "{'instruction': '### Human: Answer the question from the given passage. Your answer should be directly extracted from the passage, and it should be a single entity, name, or number, not a sentence.\\n\\nPassage:\\n\\nDie Verteidigung der Panthers gab nur 308 Punkte ab und belegte den sechsten Platz in der Liga, während sie die NFL mit 24 Interceptions in dieser Kategorie anführte und sich mit vier Pro Bowl-Selektionen rühmen konnte. Pro Bowl Defensive Tackle Kawann Short führte das Team mit 11 Sacks an, erzwang zudem drei Fumbles und erzielte zwei Fumble Recoverys. Mario Addison, ebenfalls Lineman, addierte 6½ Sacks hinzu. Die Panthers-Line präsentierte auch den erfahrenen Defensive End Jared Allen, einen 5-fachen Pro-Bowler, der mit 136 Sacks der aktive Anführer in der NFL-Kategorie Karriere-Sacks war, sowie den Defensive End Kony Ealy, der 5 Sacks in nur 9 Starts erzielte. Nach ihnen wurden zwei der drei Linebacker der Panthers ausgewählt, um im Pro Bowl zu spielen: Thomas Davis und Luke Kuechly. Davis erzielte 5½ Sacks, vier erzwungene Fumbles und vier Interceptions, während Kuechly das Team bei den Tackles anführte (118), zwei Fumbles erzwang und vier Pässe abfing. Carolinas Secondarys bestanden aus dem Pro Bowl-Safety Kurt Coleman, der das Team mit einem Karrierehoch von sieben Interceptions anführte und gleichzeitig 88 Tackles erzielen konnte, und Pro Bowl-Cornerback Josh Norman, der sich während der Saison zur Shutdown Corner entwickelte und vier Interceptions erzielte, von denen zwei zu Touchdowns für sein Team wurden.\\n\\nQuestion:\\n\\nWie viele Punkte gab die Verteidigung der Panthers ab?\\n\\nNote: Your answer should be directly extracted from the passage and be a single entity, name, or number. Provide the answer in quotations.### Assistant: Based on the passage, the answer to the question is \"', 'answer': '308'}\n",
      "{'instruction': '### Human: Beantworte die Frage anhand des vorgegebenen Textes. Deine Antwort muss direkt aus dem Text entnommen sein und aus einer einzelnen Einheit, einem Namen oder einer Zahl bestehen. Deine Antwort darf nicht aus einem Satz bestehen.\\n\\nText:\\n\\nDie Verteidigung der Panthers gab nur 308 Punkte ab und belegte den sechsten Platz in der Liga, während sie die NFL mit 24 Interceptions in dieser Kategorie anführte und sich mit vier Pro Bowl-Selektionen rühmen konnte. Pro Bowl Defensive Tackle Kawann Short führte das Team mit 11 Sacks an, erzwang zudem drei Fumbles und erzielte zwei Fumble Recoverys. Mario Addison, ebenfalls Lineman, addierte 6½ Sacks hinzu. Die Panthers-Line präsentierte auch den erfahrenen Defensive End Jared Allen, einen 5-fachen Pro-Bowler, der mit 136 Sacks der aktive Anführer in der NFL-Kategorie Karriere-Sacks war, sowie den Defensive End Kony Ealy, der 5 Sacks in nur 9 Starts erzielte. Nach ihnen wurden zwei der drei Linebacker der Panthers ausgewählt, um im Pro Bowl zu spielen: Thomas Davis und Luke Kuechly. Davis erzielte 5½ Sacks, vier erzwungene Fumbles und vier Interceptions, während Kuechly das Team bei den Tackles anführte (118), zwei Fumbles erzwang und vier Pässe abfing. Carolinas Secondarys bestanden aus dem Pro Bowl-Safety Kurt Coleman, der das Team mit einem Karrierehoch von sieben Interceptions anführte und gleichzeitig 88 Tackles erzielen konnte, und Pro Bowl-Cornerback Josh Norman, der sich während der Saison zur Shutdown Corner entwickelte und vier Interceptions erzielte, von denen zwei zu Touchdowns für sein Team wurden.\\n\\nFrage:\\n\\nWie viele Punkte gab die Verteidigung der Panthers ab?\\n\\nHinweis: Deine Antwort muss direkt aus dem Text entnommen werden und aus einer einzigen Einheit, einem Namen oder einer Zahl bestehen. Setze die Antwort in Anführungs- und Schlusszeichen.### Assistant: Anhand des Textes lautet die Antwort auf die Frage „', 'answer': '308'}\n",
      "Finished writing de data. Wrote 1190 items.\n"
     ]
    },
    {
     "name": "stderr",
     "output_type": "stream",
     "text": [
      "Found cached dataset xquad (/home/user/kew/.cache/huggingface/datasets/xquad/xquad.ru/1.0.0/39e1ff0497cbbfb79bbff61024031c10872bbd7c4fd8bc250207a965c39d3336)\n",
      "100%|██████████| 1/1 [00:00<00:00, 343.71it/s]\n"
     ]
    },
    {
     "name": "stdout",
     "output_type": "stream",
     "text": [
      "Dataset({\n",
      "    features: ['id', 'context', 'question', 'answers'],\n",
      "    num_rows: 1190\n",
      "})\n",
      "{'instruction': '### Human: Answer the question from the given passage. Your answer should be directly extracted from the passage, and it should be a single entity, name, or number, not a sentence.\\n\\nPassage:\\n\\n\\ufeffЗащита Пэнтерс уступила всего 308 очков, заняв шестое место в лиге, а также лидировала в НФЛ по перехватам с 24 и похвасталась четырьмя попаданиями в Пробоул. Дифенсив тэкл Пробоула Кейван Шорт лидирует в команде с 11 мешками, а также обеспечил три потери мяча и получил два. Нападающий Марио Эдисон добавил 6½ мешков. Линия Пэнтерс также представила ди-энда-ветерана Джареда Аллена, пятикратного участника Пробоула, который был активным лидером по количеству мешков в карьере НФЛ в количестве 136, вместе с ди-эндом Кони Или, у которого было 5 мешков всего за 9 стартов. Позади них для участия в Пробоуле также были выбраны два из трех стартовых лайнбекеров Пэнтерс: Томас Дэвис и Люк Кикли. Дэвис собрал 5½ мешков, четыре вынужденных потери мяча и четыре перехвата, в то время как Кикли лидировал в команде по блокировкам (118), форсировал две потери мяча и перехватил четыре своих передачи. Второй по популярности в Каролине сэйфти Пробоула Курт Колеман, который был лидером команды с максимальным показателем в своей карьере – 7 перехватов, при этом также набрав 88 перехватов, и корнербэк Пробоула Джош Норман, который в течение сезона превратился в шатдаун-корнера и имел четыре перехвата, два из которых были завершены тачдауном.\\n\\nQuestion:\\n\\nСколько очков уступила защита Пэнтерс?\\n\\nNote: Your answer should be directly extracted from the passage and be a single entity, name, or number. Provide the answer in quotations.### Assistant: Based on the passage, the answer to the question is \"', 'answer': '308'}\n",
      "{'instruction': '### Human: Ответь на вопрос из приведенного отрывка. Твой ответ должен быть непосредственно извлечен из отрывка и содержать только один элемент, будь это предмет, имя или число. Ответ не должен быть целым предложением.\\n\\nОтрывок:\\n\\n\\ufeffЗащита Пэнтерс уступила всего 308 очков, заняв шестое место в лиге, а также лидировала в НФЛ по перехватам с 24 и похвасталась четырьмя попаданиями в Пробоул. Дифенсив тэкл Пробоула Кейван Шорт лидирует в команде с 11 мешками, а также обеспечил три потери мяча и получил два. Нападающий Марио Эдисон добавил 6½ мешков. Линия Пэнтерс также представила ди-энда-ветерана Джареда Аллена, пятикратного участника Пробоула, который был активным лидером по количеству мешков в карьере НФЛ в количестве 136, вместе с ди-эндом Кони Или, у которого было 5 мешков всего за 9 стартов. Позади них для участия в Пробоуле также были выбраны два из трех стартовых лайнбекеров Пэнтерс: Томас Дэвис и Люк Кикли. Дэвис собрал 5½ мешков, четыре вынужденных потери мяча и четыре перехвата, в то время как Кикли лидировал в команде по блокировкам (118), форсировал две потери мяча и перехватил четыре своих передачи. Второй по популярности в Каролине сэйфти Пробоула Курт Колеман, который был лидером команды с максимальным показателем в своей карьере – 7 перехватов, при этом также набрав 88 перехватов, и корнербэк Пробоула Джош Норман, который в течение сезона превратился в шатдаун-корнера и имел четыре перехвата, два из которых были завершены тачдауном.\\n\\nВопрос:\\n\\nСколько очков уступила защита Пэнтерс?\\n\\nВнимание: Ваш ответ должен быть непосредственно взят из отрывка и представлять собой один предмет, имя или число. Укажите ответ в кавычках.### Assistant: Исходя из отрывка, ответ на вопрос: «', 'answer': '308'}\n",
      "Finished writing ru data. Wrote 1190 items.\n"
     ]
    },
    {
     "name": "stderr",
     "output_type": "stream",
     "text": [
      "Found cached dataset xquad (/home/user/kew/.cache/huggingface/datasets/xquad/xquad.zh/1.0.0/39e1ff0497cbbfb79bbff61024031c10872bbd7c4fd8bc250207a965c39d3336)\n",
      "100%|██████████| 1/1 [00:00<00:00, 363.55it/s]"
     ]
    },
    {
     "name": "stdout",
     "output_type": "stream",
     "text": [
      "Dataset({\n",
      "    features: ['id', 'context', 'question', 'answers'],\n",
      "    num_rows: 1190\n",
      "})\n",
      "{'instruction': '### Human: Answer the question from the given passage. Your answer should be directly extracted from the passage, and it should be a single entity, name, or number, not a sentence.\\n\\nPassage:\\n\\n黑豹队的防守只丢了 308分，在联赛中排名第六，同时也以 24 次拦截领先国家橄榄球联盟 (NFL)，并且四次入选职业碗。职业碗防守截锋卡万·肖特以 11 分领先于全队，同时还有三次迫使掉球和两次重新接球。他的队友马里奥·爱迪生贡献了 6½ 次擒杀。黑豹队的防线上有经验丰富的防守端锋贾里德·艾伦，他是五次职业碗选手，曾以 136 次擒杀成为 NFL 职业生涯中的活跃领袖。另外还有在 9 场首发中就拿下 5 次擒杀的防守端锋科尼·伊利。在他们身后，黑豹队的三名首发线卫中有两人入选了职业碗：托马斯·戴维斯和卢克·坎克利。戴维斯完成了 5½ 次擒杀、四次迫使掉球和四次拦截，而坎克利带领球队在擒抱 (118) 中迫使两次掉球并拦截了他自己的四次传球。卡罗莱纳的第二防线有职业碗安全卫科特·科尔曼和职业碗角卫约什·诺曼，科尔曼带领球队完成了职业生涯中高达七次拦截并同时贡献了 88 次擒抱，而诺曼在本赛季成长为一名封锁角卫并完成了四次拦截，其中两次被判触地得分。\\n\\nQuestion:\\n\\n黑豹队的防守丢了多少分？\\n\\nNote: Your answer should be directly extracted from the passage and be a single entity, name, or number. Provide the answer in quotations.### Assistant: Based on the passage, the answer to the question is \"', 'answer': '308'}\n",
      "{'instruction': '### Human：请根据给定的段落回答问题。你的答案应直接提取自该段落，且应该为一个专有名词、名字或数字，而不是一个句子。\\n\\n段落：\\n\\n黑豹队的防守只丢了 308分，在联赛中排名第六，同时也以 24 次拦截领先国家橄榄球联盟 (NFL)，并且四次入选职业碗。职业碗防守截锋卡万·肖特以 11 分领先于全队，同时还有三次迫使掉球和两次重新接球。他的队友马里奥·爱迪生贡献了 6½ 次擒杀。黑豹队的防线上有经验丰富的防守端锋贾里德·艾伦，他是五次职业碗选手，曾以 136 次擒杀成为 NFL 职业生涯中的活跃领袖。另外还有在 9 场首发中就拿下 5 次擒杀的防守端锋科尼·伊利。在他们身后，黑豹队的三名首发线卫中有两人入选了职业碗：托马斯·戴维斯和卢克·坎克利。戴维斯完成了 5½ 次擒杀、四次迫使掉球和四次拦截，而坎克利带领球队在擒抱 (118) 中迫使两次掉球并拦截了他自己的四次传球。卡罗莱纳的第二防线有职业碗安全卫科特·科尔曼和职业碗角卫约什·诺曼，科尔曼带领球队完成了职业生涯中高达七次拦截并同时贡献了 88 次擒抱，而诺曼在本赛季成长为一名封锁角卫并完成了四次拦截，其中两次被判触地得分。\\n\\n问题：\\n\\n黑豹队的防守丢了多少分？\\n\\n请注意：你的答案应直接摘自该段落， 且为一个专有名词，名字或数字。请在引号中给出答案。 ### Assistant：根据这段文字，该问题的答案是 \"', 'answer': '308'}\n",
      "Finished writing zh data. Wrote 1190 items.\n"
     ]
    },
    {
     "name": "stderr",
     "output_type": "stream",
     "text": [
      "\n"
     ]
    }
   ],
   "source": [
    "\n",
    "for lang_tag in language_prompts.keys():\n",
    "    data = load_dataset('xquad', f'xquad.{lang_tag}')['validation']\n",
    "    print(data)\n",
    "    with open(f'data/xquad_dev_en_{lang_tag}.json', 'w', encoding='utf8') as en_outf:\n",
    "        with open(f'data/xquad_dev_{lang_tag}_{lang_tag}.json', 'w', encoding='utf8') as x_outf:\n",
    "            for i, row in enumerate(data):\n",
    "                # print(row)\n",
    "                context = row['context'].strip()\n",
    "                question = row['question'].strip()\n",
    "                answer = row['answers']['text'][0].strip()\n",
    "                if len(row['answers']['text']) > 1:\n",
    "                    print(f'Warning: {len(row[\"answers\"][\"text\"])} answers found for {lang_tag} data.')\n",
    "\n",
    "                en_formatted_item = {\n",
    "                    'instruction': xquad_task_description_en.format(context=context, question=question).strip(),\n",
    "                    'answer': answer,\n",
    "                }\n",
    "\n",
    "                x_formatted_item = {\n",
    "                    'instruction': language_prompts[lang_tag].format(context=context, question=question).strip(),\n",
    "                    'answer': answer,\n",
    "                }\n",
    "\n",
    "                if i == 0:\n",
    "                    print(en_formatted_item)\n",
    "                    print(x_formatted_item)\n",
    "\n",
    "\n",
    "                en_outf.write(f'{json.dumps(en_formatted_item, ensure_ascii=False)}\\n')\n",
    "                x_outf.write(f'{json.dumps(x_formatted_item, ensure_ascii=False)}\\n')\n",
    "            \n",
    "        print(f'Finished writing {lang_tag} data. Wrote {len(data)} items.')"
   ]
  },
  {
   "cell_type": "code",
   "execution_count": null,
   "metadata": {},
   "outputs": [],
   "source": []
  }
 ],
 "metadata": {
  "kernelspec": {
   "display_name": "vllm",
   "language": "python",
   "name": "python3"
  },
  "language_info": {
   "codemirror_mode": {
    "name": "ipython",
    "version": 3
   },
   "file_extension": ".py",
   "mimetype": "text/x-python",
   "name": "python",
   "nbconvert_exporter": "python",
   "pygments_lexer": "ipython3",
   "version": "3.10.0"
  }
 },
 "nbformat": 4,
 "nbformat_minor": 2
}
