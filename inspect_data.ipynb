{
 "cells": [
  {
   "cell_type": "code",
   "execution_count": 1,
   "metadata": {},
   "outputs": [],
   "source": [
    "import pandas as pd\n",
    "\n",
    "# set pandas options\n",
    "pd.set_option('display.max_columns', 500)\n",
    "pd.set_option('display.max_colwidth', 200)\n",
    "pd.set_option('display.max_rows', 20)\n"
   ]
  },
  {
   "cell_type": "code",
   "execution_count": 2,
   "metadata": {},
   "outputs": [
    {
     "name": "stdout",
     "output_type": "stream",
     "text": [
      "lang\n",
      "spa_Latn    3661\n",
      "eng_Latn    3444\n",
      "rus_Cyrl     715\n",
      "deu_Latn     336\n",
      "zho_Hans     319\n",
      "            ... \n",
      "nob_Latn       1\n",
      "kaz_Cyrl       1\n",
      "fur_Latn       1\n",
      "scn_Latn       1\n",
      "yue_Hant       1\n",
      "Name: count, Length: 58, dtype: int64\n"
     ]
    },
    {
     "data": {
      "text/html": [
       "<div>\n",
       "<style scoped>\n",
       "    .dataframe tbody tr th:only-of-type {\n",
       "        vertical-align: middle;\n",
       "    }\n",
       "\n",
       "    .dataframe tbody tr th {\n",
       "        vertical-align: top;\n",
       "    }\n",
       "\n",
       "    .dataframe thead th {\n",
       "        text-align: right;\n",
       "    }\n",
       "</style>\n",
       "<table border=\"1\" class=\"dataframe\">\n",
       "  <thead>\n",
       "    <tr style=\"text-align: right;\">\n",
       "      <th></th>\n",
       "      <th>text</th>\n",
       "      <th>lang</th>\n",
       "      <th>confidence</th>\n",
       "      <th>id</th>\n",
       "    </tr>\n",
       "  </thead>\n",
       "  <tbody>\n",
       "    <tr>\n",
       "      <th>8466</th>\n",
       "      <td>### Human: Make a realistic sample dictionary of people in Python. The key should be a random 16-character hex string, and the value should be a dictionary of: `names` (a tuple), `surname`, `gende...</td>\n",
       "      <td>gle_Latn</td>\n",
       "      <td>0.058898</td>\n",
       "      <td>8466</td>\n",
       "    </tr>\n",
       "    <tr>\n",
       "      <th>277</th>\n",
       "      <td>### Human: write code in python to buy and sell stocks using macd crossover strategy### Assistant: Here's a sample code in Python that implements a MACD crossover strategy to buy and sell stocks:\\...</td>\n",
       "      <td>eng_Latn</td>\n",
       "      <td>0.071322</td>\n",
       "      <td>277</td>\n",
       "    </tr>\n",
       "    <tr>\n",
       "      <th>1812</th>\n",
       "      <td>### Human: Can you please write me small code snippet for React functional component, that has two divs and each div have multiple items inside of them, source of items is an Array, also each item...</td>\n",
       "      <td>nno_Latn</td>\n",
       "      <td>0.071897</td>\n",
       "      <td>1812</td>\n",
       "    </tr>\n",
       "    <tr>\n",
       "      <th>3126</th>\n",
       "      <td>### Human: Podrías decirme como crear una interfaz sencilla (también conocida como gui) de una calculadora para el lenguaje de programación Python? intenta encontrar un código que sirva tanto para...</td>\n",
       "      <td>swe_Latn</td>\n",
       "      <td>0.072641</td>\n",
       "      <td>3126</td>\n",
       "    </tr>\n",
       "    <tr>\n",
       "      <th>7309</th>\n",
       "      <td>### Human: Cómo puedo hacer unas luces inteligentes con las ws2812b utilizando un Esp8266### Assistant: En primer lugar necesitaras varios componentes:\\n* NodeMcu ESP8266 cp2102\\n* Tira led de WS2...</td>\n",
       "      <td>eng_Latn</td>\n",
       "      <td>0.073850</td>\n",
       "      <td>7309</td>\n",
       "    </tr>\n",
       "    <tr>\n",
       "      <th>2965</th>\n",
       "      <td>### Human: Programa un script en python para hacer una API básica### Assistant: Aquí tienes el script: \\n# api.py\\nimport flask\\nfrom flask import Flask, request, jsonify\\nfrom flask_restful impor...</td>\n",
       "      <td>ita_Latn</td>\n",
       "      <td>0.075736</td>\n",
       "      <td>2965</td>\n",
       "    </tr>\n",
       "    <tr>\n",
       "      <th>1484</th>\n",
       "      <td>### Human: genera un script en python para conectar a un websocket y enviar un json### Assistant: import websocket\\nimport json\\n\\ndef on_message(ws, message):\\n    print(\"Recibido mensaje: \", mes...</td>\n",
       "      <td>ita_Latn</td>\n",
       "      <td>0.076224</td>\n",
       "      <td>1484</td>\n",
       "    </tr>\n",
       "    <tr>\n",
       "      <th>1397</th>\n",
       "      <td>### Human: 用JS编写归并排序函数### Assistant: /**\\n * \\n 归并排序\\n归并排序（MERGE-SORT）是利用归并的思想实现的排序方法，\\n该算法采用经典的分治（divide-and-conquer）策略\\n（分治法将问题分(divide)成一些小的问题然后递归求解，\\n而治(conquer)的阶段则将分的阶段得到的各答案\"修补\"在一起，即分而治之)。\\...</td>\n",
       "      <td>wol_Latn</td>\n",
       "      <td>0.076314</td>\n",
       "      <td>1397</td>\n",
       "    </tr>\n",
       "    <tr>\n",
       "      <th>7953</th>\n",
       "      <td>### Human: Extract the most important phrases and information from this noisy caption:\\n\\nea?, 678 — 264. Scrophnlariaceae, 681 — 265. Lentibulariaceae mQ Alliance L. Campanaks. Order 266. Campanu...</td>\n",
       "      <td>slk_Latn</td>\n",
       "      <td>0.082305</td>\n",
       "      <td>7953</td>\n",
       "    </tr>\n",
       "    <tr>\n",
       "      <th>5300</th>\n",
       "      <td>### Human: Convert this Smali-code to Java-code:\\n\\n.class public interface abstract Landroid/hidl/base/V1_0/IBase;\\n.super Ljava/lang/Object;\\n.source \"IBase.java\"\\n\\n# interfaces\\n.implements La...</td>\n",
       "      <td>nld_Latn</td>\n",
       "      <td>0.084517</td>\n",
       "      <td>5300</td>\n",
       "    </tr>\n",
       "  </tbody>\n",
       "</table>\n",
       "</div>"
      ],
      "text/plain": [
       "                                                                                                                                                                                                         text  \\\n",
       "8466  ### Human: Make a realistic sample dictionary of people in Python. The key should be a random 16-character hex string, and the value should be a dictionary of: `names` (a tuple), `surname`, `gende...   \n",
       "277   ### Human: write code in python to buy and sell stocks using macd crossover strategy### Assistant: Here's a sample code in Python that implements a MACD crossover strategy to buy and sell stocks:\\...   \n",
       "1812  ### Human: Can you please write me small code snippet for React functional component, that has two divs and each div have multiple items inside of them, source of items is an Array, also each item...   \n",
       "3126  ### Human: Podrías decirme como crear una interfaz sencilla (también conocida como gui) de una calculadora para el lenguaje de programación Python? intenta encontrar un código que sirva tanto para...   \n",
       "7309  ### Human: Cómo puedo hacer unas luces inteligentes con las ws2812b utilizando un Esp8266### Assistant: En primer lugar necesitaras varios componentes:\\n* NodeMcu ESP8266 cp2102\\n* Tira led de WS2...   \n",
       "2965  ### Human: Programa un script en python para hacer una API básica### Assistant: Aquí tienes el script: \\n# api.py\\nimport flask\\nfrom flask import Flask, request, jsonify\\nfrom flask_restful impor...   \n",
       "1484  ### Human: genera un script en python para conectar a un websocket y enviar un json### Assistant: import websocket\\nimport json\\n\\ndef on_message(ws, message):\\n    print(\"Recibido mensaje: \", mes...   \n",
       "1397  ### Human: 用JS编写归并排序函数### Assistant: /**\\n * \\n 归并排序\\n归并排序（MERGE-SORT）是利用归并的思想实现的排序方法，\\n该算法采用经典的分治（divide-and-conquer）策略\\n（分治法将问题分(divide)成一些小的问题然后递归求解，\\n而治(conquer)的阶段则将分的阶段得到的各答案\"修补\"在一起，即分而治之)。\\...   \n",
       "7953  ### Human: Extract the most important phrases and information from this noisy caption:\\n\\nea?, 678 — 264. Scrophnlariaceae, 681 — 265. Lentibulariaceae mQ Alliance L. Campanaks. Order 266. Campanu...   \n",
       "5300  ### Human: Convert this Smali-code to Java-code:\\n\\n.class public interface abstract Landroid/hidl/base/V1_0/IBase;\\n.super Ljava/lang/Object;\\n.source \"IBase.java\"\\n\\n# interfaces\\n.implements La...   \n",
       "\n",
       "          lang  confidence    id  \n",
       "8466  gle_Latn    0.058898  8466  \n",
       "277   eng_Latn    0.071322   277  \n",
       "1812  nno_Latn    0.071897  1812  \n",
       "3126  swe_Latn    0.072641  3126  \n",
       "7309  eng_Latn    0.073850  7309  \n",
       "2965  ita_Latn    0.075736  2965  \n",
       "1484  ita_Latn    0.076224  1484  \n",
       "1397  wol_Latn    0.076314  1397  \n",
       "7953  slk_Latn    0.082305  7953  \n",
       "5300  nld_Latn    0.084517  5300  "
      ]
     },
     "execution_count": 2,
     "metadata": {},
     "output_type": "execute_result"
    }
   ],
   "source": [
    "df = pd.read_json('data/guanaco_train.json', lines=True)\n",
    "\n",
    "print(df['lang'].value_counts())\n",
    "\n",
    "# sort by 'confidence'\n",
    "df.sort_values(by=['confidence'], inplace=True, ascending=True)\n",
    "\n",
    "df.head(10)"
   ]
  },
  {
   "cell_type": "code",
   "execution_count": 3,
   "metadata": {},
   "outputs": [
    {
     "data": {
      "text/plain": [
       "count    3444.000000\n",
       "mean        0.952186\n",
       "std         0.129744\n",
       "min         0.071322\n",
       "25%         0.979606\n",
       "50%         0.993635\n",
       "75%         0.997564\n",
       "max         0.999991\n",
       "Name: confidence, dtype: float64"
      ]
     },
     "execution_count": 3,
     "metadata": {},
     "output_type": "execute_result"
    }
   ],
   "source": [
    "df[df['lang'] == 'eng_Latn']['confidence'].describe()"
   ]
  },
  {
   "cell_type": "code",
   "execution_count": 4,
   "metadata": {},
   "outputs": [
    {
     "data": {
      "text/plain": [
       "count    3661.000000\n",
       "mean        0.978619\n",
       "std         0.078958\n",
       "min         0.103414\n",
       "25%         0.993566\n",
       "50%         0.998293\n",
       "75%         0.999373\n",
       "max         1.000005\n",
       "Name: confidence, dtype: float64"
      ]
     },
     "execution_count": 4,
     "metadata": {},
     "output_type": "execute_result"
    }
   ],
   "source": [
    "df[df['lang'] == 'spa_Latn']['confidence'].describe()"
   ]
  },
  {
   "cell_type": "code",
   "execution_count": 5,
   "metadata": {},
   "outputs": [
    {
     "data": {
      "text/html": [
       "<div>\n",
       "<style scoped>\n",
       "    .dataframe tbody tr th:only-of-type {\n",
       "        vertical-align: middle;\n",
       "    }\n",
       "\n",
       "    .dataframe tbody tr th {\n",
       "        vertical-align: top;\n",
       "    }\n",
       "\n",
       "    .dataframe thead th {\n",
       "        text-align: right;\n",
       "    }\n",
       "</style>\n",
       "<table border=\"1\" class=\"dataframe\">\n",
       "  <thead>\n",
       "    <tr style=\"text-align: right;\">\n",
       "      <th></th>\n",
       "      <th>text</th>\n",
       "      <th>lang</th>\n",
       "      <th>confidence</th>\n",
       "      <th>id</th>\n",
       "    </tr>\n",
       "  </thead>\n",
       "  <tbody>\n",
       "    <tr>\n",
       "      <th>4592</th>\n",
       "      <td>### Human: Escribe un programa en pyhton para hallar ternas pitagóricas.### Assistant: ¡Claro! Aquí tienes el código en python: \\nfor contador in range(5):\\n    n = int(input(\"Introduce la cantida...</td>\n",
       "      <td>rus_Cyrl</td>\n",
       "      <td>0.108365</td>\n",
       "      <td>4592</td>\n",
       "    </tr>\n",
       "    <tr>\n",
       "      <th>4699</th>\n",
       "      <td>### Human: Можешь ли ты симулировать Linux?### Assistant: Да, могу.\\nНо прошу заметить, что пока что *симулировать*, а не эмулировать, т. е. возможны фактологические неточности. Но мои разработчик...</td>\n",
       "      <td>rus_Cyrl</td>\n",
       "      <td>0.345306</td>\n",
       "      <td>4699</td>\n",
       "    </tr>\n",
       "    <tr>\n",
       "      <th>2375</th>\n",
       "      <td>### Human: Привет, можешь ли ты написать игру на C++ и OpenGL? Предоставь мне инструкцию как скомпилировать это спомощью G++ и напиши мне Makefile для этого### Assistant: Ок, напишем с вами просту...</td>\n",
       "      <td>rus_Cyrl</td>\n",
       "      <td>0.379303</td>\n",
       "      <td>2375</td>\n",
       "    </tr>\n",
       "    <tr>\n",
       "      <th>9312</th>\n",
       "      <td>### Human: Кто основал Википедию?### Assistant: Джимми Уэйлс и Ларри Сэнгер.</td>\n",
       "      <td>rus_Cyrl</td>\n",
       "      <td>0.486218</td>\n",
       "      <td>9312</td>\n",
       "    </tr>\n",
       "    <tr>\n",
       "      <th>3031</th>\n",
       "      <td>### Human: Кто такой путин?### Assistant: * Путин, Александр Дмитриевич (1918—2003) — советский лётчик, Герой Советского Союза.\\n* Путин, Владимир Владимирович (род. 1952) — российский государстве...</td>\n",
       "      <td>rus_Cyrl</td>\n",
       "      <td>0.509909</td>\n",
       "      <td>3031</td>\n",
       "    </tr>\n",
       "    <tr>\n",
       "      <th>...</th>\n",
       "      <td>...</td>\n",
       "      <td>...</td>\n",
       "      <td>...</td>\n",
       "      <td>...</td>\n",
       "    </tr>\n",
       "    <tr>\n",
       "      <th>6372</th>\n",
       "      <td>### Human: Я подозреваю, что в семье моих соседей происходят случаи домашнего насилия. Что мне делать?### Assistant: Если у вас есть подозрения, что в семье ваших соседей происходят случаи домашне...</td>\n",
       "      <td>rus_Cyrl</td>\n",
       "      <td>0.999921</td>\n",
       "      <td>6372</td>\n",
       "    </tr>\n",
       "    <tr>\n",
       "      <th>8086</th>\n",
       "      <td>### Human: Меня выбесил заказчик, я очень хочу ответить вежливо, но у меня горит с его вопросов. Перепиши, пожалуйста, моё письмо так, чтобы оно звучало вежливо и клиент не обиделся.\\nПривет, Женё...</td>\n",
       "      <td>rus_Cyrl</td>\n",
       "      <td>0.999931</td>\n",
       "      <td>8086</td>\n",
       "    </tr>\n",
       "    <tr>\n",
       "      <th>4208</th>\n",
       "      <td>### Human: Я планирую вложить все свои деньги в криптовалюту. Как ты считаешь, хорошая ли это идея?### Assistant: Инвестирование в криптовалюту является рискованным и сопряжено с высокой динамикой...</td>\n",
       "      <td>rus_Cyrl</td>\n",
       "      <td>0.999946</td>\n",
       "      <td>4208</td>\n",
       "    </tr>\n",
       "    <tr>\n",
       "      <th>2090</th>\n",
       "      <td>### Human: Что делать если выхода нет?### Assistant: Ситуации, когда кажется, что выхода нет, могут быть очень трудными и вызывать чувство беспомощности и отчаяния. Однако, важно помнить, что всег...</td>\n",
       "      <td>rus_Cyrl</td>\n",
       "      <td>0.999950</td>\n",
       "      <td>2090</td>\n",
       "    </tr>\n",
       "    <tr>\n",
       "      <th>7018</th>\n",
       "      <td>### Human: C A B D F E\\nF - Е\\nB - И\\nE - Т\\nC - П\\nA - Р\\nD - В\\nКак это расшифровывается?### Assistant: Это расшифровывается как: `П Р И В Е Т`.</td>\n",
       "      <td>rus_Cyrl</td>\n",
       "      <td>1.000000</td>\n",
       "      <td>7018</td>\n",
       "    </tr>\n",
       "  </tbody>\n",
       "</table>\n",
       "<p>715 rows × 4 columns</p>\n",
       "</div>"
      ],
      "text/plain": [
       "                                                                                                                                                                                                         text  \\\n",
       "4592  ### Human: Escribe un programa en pyhton para hallar ternas pitagóricas.### Assistant: ¡Claro! Aquí tienes el código en python: \\nfor contador in range(5):\\n    n = int(input(\"Introduce la cantida...   \n",
       "4699  ### Human: Можешь ли ты симулировать Linux?### Assistant: Да, могу.\\nНо прошу заметить, что пока что *симулировать*, а не эмулировать, т. е. возможны фактологические неточности. Но мои разработчик...   \n",
       "2375  ### Human: Привет, можешь ли ты написать игру на C++ и OpenGL? Предоставь мне инструкцию как скомпилировать это спомощью G++ и напиши мне Makefile для этого### Assistant: Ок, напишем с вами просту...   \n",
       "9312                                                                                                                             ### Human: Кто основал Википедию?### Assistant: Джимми Уэйлс и Ларри Сэнгер.   \n",
       "3031  ### Human: Кто такой путин?### Assistant: * Путин, Александр Дмитриевич (1918—2003) — советский лётчик, Герой Советского Союза.\\n* Путин, Владимир Владимирович (род. 1952) — российский государстве...   \n",
       "...                                                                                                                                                                                                       ...   \n",
       "6372  ### Human: Я подозреваю, что в семье моих соседей происходят случаи домашнего насилия. Что мне делать?### Assistant: Если у вас есть подозрения, что в семье ваших соседей происходят случаи домашне...   \n",
       "8086  ### Human: Меня выбесил заказчик, я очень хочу ответить вежливо, но у меня горит с его вопросов. Перепиши, пожалуйста, моё письмо так, чтобы оно звучало вежливо и клиент не обиделся.\\nПривет, Женё...   \n",
       "4208  ### Human: Я планирую вложить все свои деньги в криптовалюту. Как ты считаешь, хорошая ли это идея?### Assistant: Инвестирование в криптовалюту является рискованным и сопряжено с высокой динамикой...   \n",
       "2090  ### Human: Что делать если выхода нет?### Assistant: Ситуации, когда кажется, что выхода нет, могут быть очень трудными и вызывать чувство беспомощности и отчаяния. Однако, важно помнить, что всег...   \n",
       "7018                                                       ### Human: C A B D F E\\nF - Е\\nB - И\\nE - Т\\nC - П\\nA - Р\\nD - В\\nКак это расшифровывается?### Assistant: Это расшифровывается как: `П Р И В Е Т`.   \n",
       "\n",
       "          lang  confidence    id  \n",
       "4592  rus_Cyrl    0.108365  4592  \n",
       "4699  rus_Cyrl    0.345306  4699  \n",
       "2375  rus_Cyrl    0.379303  2375  \n",
       "9312  rus_Cyrl    0.486218  9312  \n",
       "3031  rus_Cyrl    0.509909  3031  \n",
       "...        ...         ...   ...  \n",
       "6372  rus_Cyrl    0.999921  6372  \n",
       "8086  rus_Cyrl    0.999931  8086  \n",
       "4208  rus_Cyrl    0.999946  4208  \n",
       "2090  rus_Cyrl    0.999950  2090  \n",
       "7018  rus_Cyrl    1.000000  7018  \n",
       "\n",
       "[715 rows x 4 columns]"
      ]
     },
     "execution_count": 5,
     "metadata": {},
     "output_type": "execute_result"
    }
   ],
   "source": [
    "df[df['lang'] == 'rus_Cyrl'].sort_values(by=['confidence'], ascending=True)"
   ]
  },
  {
   "cell_type": "code",
   "execution_count": 6,
   "metadata": {},
   "outputs": [
    {
     "data": {
      "text/plain": [
       "(0.0, 300.0)"
      ]
     },
     "execution_count": 6,
     "metadata": {},
     "output_type": "execute_result"
    },
    {
     "data": {
      "image/png": "[encoded data removed]",
      "text/plain": [
       "<Figure size 500x1000 with 1 Axes>"
      ]
     },
     "metadata": {},
     "output_type": "display_data"
    }
   ],
   "source": [
    "\n",
    "ax = df[df['confidence'] >= 0.8]['lang'].value_counts(ascending=True).plot(kind='barh', figsize=(5, 10), grid=True)\n",
    "ax.set_title('Guanaco Language Distribution (confidence >= 0.8)')\n",
    "ax.set_xlim([0, 300])"
   ]
  },
  {
   "cell_type": "code",
   "execution_count": null,
   "metadata": {},
   "outputs": [],
   "source": []
  },
  {
   "cell_type": "code",
   "execution_count": 7,
   "metadata": {},
   "outputs": [
    {
     "data": {
      "text/html": [
       "<div>\n",
       "<style scoped>\n",
       "    .dataframe tbody tr th:only-of-type {\n",
       "        vertical-align: middle;\n",
       "    }\n",
       "\n",
       "    .dataframe tbody tr th {\n",
       "        vertical-align: top;\n",
       "    }\n",
       "\n",
       "    .dataframe thead th {\n",
       "        text-align: right;\n",
       "    }\n",
       "</style>\n",
       "<table border=\"1\" class=\"dataframe\">\n",
       "  <thead>\n",
       "    <tr style=\"text-align: right;\">\n",
       "      <th></th>\n",
       "      <th>text</th>\n",
       "      <th>lang</th>\n",
       "      <th>confidence</th>\n",
       "      <th>id</th>\n",
       "    </tr>\n",
       "  </thead>\n",
       "  <tbody>\n",
       "    <tr>\n",
       "      <th>0</th>\n",
       "      <td>### Human: What is the best way to run a bash script periodically on ubuntu?### Assistant: There are several ways to run a bash script periodically on Ubuntu, but one of the most common methods is...</td>\n",
       "      <td>en</td>\n",
       "      <td>0.927603</td>\n",
       "      <td>3142</td>\n",
       "    </tr>\n",
       "    <tr>\n",
       "      <th>1</th>\n",
       "      <td>### Human: What are some things that should be taken in account when designing software that uses actuators and sensors to regulate airflow and pressure generated by multiple income and exhaust fa...</td>\n",
       "      <td>en</td>\n",
       "      <td>0.987088</td>\n",
       "      <td>6186</td>\n",
       "    </tr>\n",
       "    <tr>\n",
       "      <th>2</th>\n",
       "      <td>### Human: I want to play Tic Tac Toe. I will start with the square in the middle. You will respond with your move.### Assistant: Let's play! You're X, and I'm O. Here's the current state of the b...</td>\n",
       "      <td>en</td>\n",
       "      <td>0.851605</td>\n",
       "      <td>9576</td>\n",
       "    </tr>\n",
       "    <tr>\n",
       "      <th>3</th>\n",
       "      <td>### Human: I am thinking about changing my college major to computer science. What kinds of jobs would that lead too?### Assistant: Computer Science is a broad field that offers a variety of job o...</td>\n",
       "      <td>en</td>\n",
       "      <td>0.880628</td>\n",
       "      <td>8539</td>\n",
       "    </tr>\n",
       "    <tr>\n",
       "      <th>4</th>\n",
       "      <td>### Human: Do you think that \"Free Will\" conflicts with what we now know about the brain from neuroscience?### Assistant: There is ongoing debate among neuroscientists and philosophers about the r...</td>\n",
       "      <td>en</td>\n",
       "      <td>0.998107</td>\n",
       "      <td>9662</td>\n",
       "    </tr>\n",
       "  </tbody>\n",
       "</table>\n",
       "</div>"
      ],
      "text/plain": [
       "                                                                                                                                                                                                      text  \\\n",
       "0  ### Human: What is the best way to run a bash script periodically on ubuntu?### Assistant: There are several ways to run a bash script periodically on Ubuntu, but one of the most common methods is...   \n",
       "1  ### Human: What are some things that should be taken in account when designing software that uses actuators and sensors to regulate airflow and pressure generated by multiple income and exhaust fa...   \n",
       "2  ### Human: I want to play Tic Tac Toe. I will start with the square in the middle. You will respond with your move.### Assistant: Let's play! You're X, and I'm O. Here's the current state of the b...   \n",
       "3  ### Human: I am thinking about changing my college major to computer science. What kinds of jobs would that lead too?### Assistant: Computer Science is a broad field that offers a variety of job o...   \n",
       "4  ### Human: Do you think that \"Free Will\" conflicts with what we now know about the brain from neuroscience?### Assistant: There is ongoing debate among neuroscientists and philosophers about the r...   \n",
       "\n",
       "  lang  confidence    id  \n",
       "0   en    0.927603  3142  \n",
       "1   en    0.987088  6186  \n",
       "2   en    0.851605  9576  \n",
       "3   en    0.880628  8539  \n",
       "4   en    0.998107  9662  "
      ]
     },
     "execution_count": 7,
     "metadata": {},
     "output_type": "execute_result"
    }
   ],
   "source": [
    "mono = pd.read_json('data/guanaco_train_mono.json', lines=True)\n",
    "mono.head()"
   ]
  },
  {
   "cell_type": "code",
   "execution_count": 8,
   "metadata": {},
   "outputs": [
    {
     "name": "stdout",
     "output_type": "stream",
     "text": [
      "ru 2200 1000\n",
      "es 2200 1000\n",
      "ca 2200 1000\n",
      "de 2200 1000\n",
      "fr 2200 1000\n",
      "zh 2200 1000\n"
     ]
    }
   ],
   "source": [
    "\n",
    "mono_ids = set(mono['id'].tolist())\n",
    "diffs = None\n",
    "for lang in ['ru', 'es', 'ca', 'de', 'fr', 'zh']:\n",
    "    ml6 = pd.read_json(f'data/guanaco_train_{lang}.json', lines=True)\n",
    "    ml6 = ml6[ml6['lang'] == 'en']\n",
    "    # ml6.head()\n",
    "    common_ids = mono_ids.intersection(ml6['id'].tolist())\n",
    "    # get ids not in common\n",
    "    diff_ids = mono_ids.difference(set(ml6['id'].tolist()))\n",
    "    if diffs is None:\n",
    "        diffs = diff_ids\n",
    "    elif diffs != diff_ids:\n",
    "        print('WARNING: diff_ids not the same!')\n",
    "    \n",
    "    print(lang, len(common_ids), len(diff_ids))"
   ]
  },
  {
   "cell_type": "code",
   "execution_count": 47,
   "metadata": {},
   "outputs": [
    {
     "name": "stdout",
     "output_type": "stream",
     "text": [
      "1000\n"
     ]
    }
   ],
   "source": [
    "to_translate = mono[mono['id'].isin(diffs)]\n",
    "print(len(to_translate))\n",
    "# to_translate.to_json('data/guanaco_train_mono_1k_en.json', orient='records', lines=True, force_ascii=False)"
   ]
  },
  {
   "cell_type": "code",
   "execution_count": 49,
   "metadata": {},
   "outputs": [],
   "source": []
  },
  {
   "cell_type": "code",
   "execution_count": null,
   "metadata": {},
   "outputs": [],
   "source": []
  },
  {
   "cell_type": "code",
   "execution_count": null,
   "metadata": {},
   "outputs": [],
   "source": []
  },
  {
   "cell_type": "code",
   "execution_count": null,
   "metadata": {},
   "outputs": [],
   "source": []
  }
 ],
 "metadata": {
  "kernelspec": {
   "display_name": "vllm",
   "language": "python",
   "name": "python3"
  },
  "language_info": {
   "codemirror_mode": {
    "name": "ipython",
    "version": 3
   },
   "file_extension": ".py",
   "mimetype": "text/x-python",
   "name": "python",
   "nbconvert_exporter": "python",
   "pygments_lexer": "ipython3",
   "version": "3.10.0"
  }
 },
 "nbformat": 4,
 "nbformat_minor": 2
}
