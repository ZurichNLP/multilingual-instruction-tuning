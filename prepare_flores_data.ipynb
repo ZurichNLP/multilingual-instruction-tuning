{
 "cells": [
  {
   "cell_type": "code",
   "execution_count": 9,
   "metadata": {},
   "outputs": [],
   "source": [
    "# -*- coding: utf-8 -*-"
   ]
  },
  {
   "cell_type": "code",
   "execution_count": 27,
   "metadata": {},
   "outputs": [],
   "source": [
    "from datasets import load_dataset\n",
    "from pathlib import Path\n",
    "import pandas as pd\n",
    "import json"
   ]
  },
  {
   "cell_type": "code",
   "execution_count": 28,
   "metadata": {},
   "outputs": [
    {
     "name": "stderr",
     "output_type": "stream",
     "text": [
      "Found cached dataset flores200 (/home/user/kew/.cache/huggingface/datasets/Muennighoff___flores200/eng_Latn/1.0.0/e35d01ab770ed662c2c0c033127f8c096688e178408acc3d4546cfec6ce95e9e)\n",
      "100%|██████████| 2/2 [00:00<00:00, 409.84it/s]"
     ]
    },
    {
     "name": "stdout",
     "output_type": "stream",
     "text": [
      "DatasetDict({\n",
      "    dev: Dataset({\n",
      "        features: ['id', 'URL', 'domain', 'topic', 'has_image', 'has_hyperlink', 'sentence'],\n",
      "        num_rows: 997\n",
      "    })\n",
      "    devtest: Dataset({\n",
      "        features: ['id', 'URL', 'domain', 'topic', 'has_image', 'has_hyperlink', 'sentence'],\n",
      "        num_rows: 1012\n",
      "    })\n",
      "})\n"
     ]
    },
    {
     "name": "stderr",
     "output_type": "stream",
     "text": [
      "\n"
     ]
    }
   ],
   "source": [
    "flores_en = load_dataset(\"Muennighoff/flores200\", \"eng_Latn\")\n",
    "print(flores_en)"
   ]
  },
  {
   "cell_type": "code",
   "execution_count": 29,
   "metadata": {},
   "outputs": [
    {
     "name": "stderr",
     "output_type": "stream",
     "text": [
      "Found cached dataset flores200 (/home/user/kew/.cache/huggingface/datasets/Muennighoff___flores200/fra_Latn/1.0.0/e35d01ab770ed662c2c0c033127f8c096688e178408acc3d4546cfec6ce95e9e)\n",
      "100%|██████████| 2/2 [00:00<00:00, 341.43it/s]\n"
     ]
    },
    {
     "name": "stdout",
     "output_type": "stream",
     "text": [
      "Wrote 997 lines to data/flores_dev_en_fr.json\n",
      "Wrote 1012 lines to data/flores_devtest_en_fr.json\n"
     ]
    },
    {
     "name": "stderr",
     "output_type": "stream",
     "text": [
      "Found cached dataset flores200 (/home/user/kew/.cache/huggingface/datasets/Muennighoff___flores200/spa_Latn/1.0.0/e35d01ab770ed662c2c0c033127f8c096688e178408acc3d4546cfec6ce95e9e)\n",
      "100%|██████████| 2/2 [00:00<00:00, 360.43it/s]\n"
     ]
    },
    {
     "name": "stdout",
     "output_type": "stream",
     "text": [
      "Wrote 997 lines to data/flores_dev_en_es.json\n",
      "Wrote 1012 lines to data/flores_devtest_en_es.json\n"
     ]
    },
    {
     "name": "stderr",
     "output_type": "stream",
     "text": [
      "Found cached dataset flores200 (/home/user/kew/.cache/huggingface/datasets/Muennighoff___flores200/deu_Latn/1.0.0/e35d01ab770ed662c2c0c033127f8c096688e178408acc3d4546cfec6ce95e9e)\n",
      "100%|██████████| 2/2 [00:00<00:00, 341.06it/s]\n"
     ]
    },
    {
     "name": "stdout",
     "output_type": "stream",
     "text": [
      "Wrote 997 lines to data/flores_dev_en_de.json\n",
      "Wrote 1012 lines to data/flores_devtest_en_de.json\n"
     ]
    },
    {
     "name": "stderr",
     "output_type": "stream",
     "text": [
      "Found cached dataset flores200 (/home/user/kew/.cache/huggingface/datasets/Muennighoff___flores200/rus_Cyrl/1.0.0/e35d01ab770ed662c2c0c033127f8c096688e178408acc3d4546cfec6ce95e9e)\n",
      "100%|██████████| 2/2 [00:00<00:00, 369.27it/s]\n"
     ]
    },
    {
     "name": "stdout",
     "output_type": "stream",
     "text": [
      "Wrote 997 lines to data/flores_dev_en_ru.json\n",
      "Wrote 1012 lines to data/flores_devtest_en_ru.json\n"
     ]
    },
    {
     "name": "stderr",
     "output_type": "stream",
     "text": [
      "Found cached dataset flores200 (/home/user/kew/.cache/huggingface/datasets/Muennighoff___flores200/zho_Hans/1.0.0/e35d01ab770ed662c2c0c033127f8c096688e178408acc3d4546cfec6ce95e9e)\n",
      "100%|██████████| 2/2 [00:00<00:00, 379.30it/s]\n"
     ]
    },
    {
     "name": "stdout",
     "output_type": "stream",
     "text": [
      "Wrote 997 lines to data/flores_dev_en_zh.json\n",
      "Wrote 1012 lines to data/flores_devtest_en_zh.json\n"
     ]
    },
    {
     "name": "stderr",
     "output_type": "stream",
     "text": [
      "Found cached dataset flores200 (/home/user/kew/.cache/huggingface/datasets/Muennighoff___flores200/hin_Deva/1.0.0/e35d01ab770ed662c2c0c033127f8c096688e178408acc3d4546cfec6ce95e9e)\n",
      "100%|██████████| 2/2 [00:00<00:00, 364.72it/s]\n"
     ]
    },
    {
     "name": "stdout",
     "output_type": "stream",
     "text": [
      "Wrote 997 lines to data/flores_dev_en_hi.json\n",
      "Wrote 1012 lines to data/flores_devtest_en_hi.json\n"
     ]
    },
    {
     "name": "stderr",
     "output_type": "stream",
     "text": [
      "Found cached dataset flores200 (/home/user/kew/.cache/huggingface/datasets/Muennighoff___flores200/bul_Cyrl/1.0.0/e35d01ab770ed662c2c0c033127f8c096688e178408acc3d4546cfec6ce95e9e)\n",
      "100%|██████████| 2/2 [00:00<00:00, 347.15it/s]\n"
     ]
    },
    {
     "name": "stdout",
     "output_type": "stream",
     "text": [
      "Wrote 997 lines to data/flores_dev_en_bg.json\n",
      "Wrote 1012 lines to data/flores_devtest_en_bg.json\n"
     ]
    },
    {
     "name": "stderr",
     "output_type": "stream",
     "text": [
      "Found cached dataset flores200 (/home/user/kew/.cache/huggingface/datasets/Muennighoff___flores200/isl_Latn/1.0.0/e35d01ab770ed662c2c0c033127f8c096688e178408acc3d4546cfec6ce95e9e)\n",
      "100%|██████████| 2/2 [00:00<00:00, 367.33it/s]\n"
     ]
    },
    {
     "name": "stdout",
     "output_type": "stream",
     "text": [
      "Wrote 997 lines to data/flores_dev_en_is.json\n",
      "Wrote 1012 lines to data/flores_devtest_en_is.json\n"
     ]
    },
    {
     "name": "stderr",
     "output_type": "stream",
     "text": [
      "Found cached dataset flores200 (/home/user/kew/.cache/huggingface/datasets/Muennighoff___flores200/nob_Latn/1.0.0/e35d01ab770ed662c2c0c033127f8c096688e178408acc3d4546cfec6ce95e9e)\n",
      "100%|██████████| 2/2 [00:00<00:00, 375.28it/s]\n"
     ]
    },
    {
     "name": "stdout",
     "output_type": "stream",
     "text": [
      "Wrote 997 lines to data/flores_dev_en_no.json\n",
      "Wrote 1012 lines to data/flores_devtest_en_no.json\n"
     ]
    },
    {
     "name": "stderr",
     "output_type": "stream",
     "text": [
      "Found cached dataset flores200 (/home/user/kew/.cache/huggingface/datasets/Muennighoff___flores200/dan_Latn/1.0.0/e35d01ab770ed662c2c0c033127f8c096688e178408acc3d4546cfec6ce95e9e)\n",
      "100%|██████████| 2/2 [00:00<00:00, 360.58it/s]\n"
     ]
    },
    {
     "name": "stdout",
     "output_type": "stream",
     "text": [
      "Wrote 997 lines to data/flores_dev_en_da.json\n",
      "Wrote 1012 lines to data/flores_devtest_en_da.json\n"
     ]
    },
    {
     "name": "stderr",
     "output_type": "stream",
     "text": [
      "Found cached dataset flores200 (/home/user/kew/.cache/huggingface/datasets/Muennighoff___flores200/swe_Latn/1.0.0/e35d01ab770ed662c2c0c033127f8c096688e178408acc3d4546cfec6ce95e9e)\n",
      "100%|██████████| 2/2 [00:00<00:00, 348.57it/s]\n"
     ]
    },
    {
     "name": "stdout",
     "output_type": "stream",
     "text": [
      "Wrote 997 lines to data/flores_dev_en_sv.json\n",
      "Wrote 1012 lines to data/flores_devtest_en_sv.json\n"
     ]
    },
    {
     "name": "stderr",
     "output_type": "stream",
     "text": [
      "Found cached dataset flores200 (/home/user/kew/.cache/huggingface/datasets/Muennighoff___flores200/cat_Latn/1.0.0/e35d01ab770ed662c2c0c033127f8c096688e178408acc3d4546cfec6ce95e9e)\n",
      "100%|██████████| 2/2 [00:00<00:00, 352.64it/s]\n"
     ]
    },
    {
     "name": "stdout",
     "output_type": "stream",
     "text": [
      "Wrote 997 lines to data/flores_dev_en_ca.json\n",
      "Wrote 1012 lines to data/flores_devtest_en_ca.json\n"
     ]
    },
    {
     "name": "stderr",
     "output_type": "stream",
     "text": [
      "Found cached dataset flores200 (/home/user/kew/.cache/huggingface/datasets/Muennighoff___flores200/ell_Grek/1.0.0/e35d01ab770ed662c2c0c033127f8c096688e178408acc3d4546cfec6ce95e9e)\n",
      "100%|██████████| 2/2 [00:00<00:00, 413.39it/s]\n"
     ]
    },
    {
     "name": "stdout",
     "output_type": "stream",
     "text": [
      "Wrote 997 lines to data/flores_dev_en_el.json\n",
      "Wrote 1012 lines to data/flores_devtest_en_el.json\n"
     ]
    }
   ],
   "source": [
    "def write_dataset_to_jsonl(data, outfile):\n",
    "    c = 0\n",
    "    with open(outfile, \"w\", encoding=\"utf8\") as outf:\n",
    "        for entry in data:\n",
    "            line = json.dumps(entry, ensure_ascii=False)\n",
    "            outf.write(f\"{line}\\n\")\n",
    "            c += 1\n",
    "    print(f\"Wrote {c} lines to {outfile}\")\n",
    "\n",
    "lang_map = {\n",
    "    'fra_Latn': 'fr',\n",
    "    'spa_Latn': 'es',\n",
    "    'deu_Latn': 'de',\n",
    "    'rus_Cyrl': 'ru',\n",
    "    'zho_Hans': 'zh',\n",
    "    'hin_Deva': 'hi',\n",
    "    'bul_Cyrl': 'bg',\n",
    "    'isl_Latn': 'is',\n",
    "    'nob_Latn': 'no',\n",
    "    'dan_Latn': 'da',\n",
    "    'swe_Latn': 'sv',\n",
    "    'cat_Latn': 'ca',\n",
    "    'ell_Grek': 'el',\n",
    "}\n",
    "\n",
    "\n",
    "for flores_lang, lang_tag in lang_map.items():\n",
    "    flores_data = load_dataset(\"Muennighoff/flores200\", flores_lang)\n",
    "    for split in flores_data.keys():\n",
    "        data = flores_data[split]\n",
    "\n",
    "        # add english as 'source' column\n",
    "        data = data.add_column('source', flores_en[split]['sentence'])\n",
    "        # rename original 'sentence' to 'reference'\n",
    "        data = data.rename_column('sentence', 'reference')\n",
    "\n",
    "        write_dataset_to_jsonl(data, f\"data/flores_{split}_en_{lang_tag}.json\")\n",
    "        "
   ]
  },
  {
   "cell_type": "code",
   "execution_count": null,
   "metadata": {},
   "outputs": [],
   "source": []
  },
  {
   "cell_type": "markdown",
   "metadata": {},
   "source": []
  }
 ],
 "metadata": {
  "kernelspec": {
   "display_name": "vllm",
   "language": "python",
   "name": "python3"
  },
  "language_info": {
   "codemirror_mode": {
    "name": "ipython",
    "version": 3
   },
   "file_extension": ".py",
   "mimetype": "text/x-python",
   "name": "python",
   "nbconvert_exporter": "python",
   "pygments_lexer": "ipython3",
   "version": "3.10.0"
  }
 },
 "nbformat": 4,
 "nbformat_minor": 2
}
