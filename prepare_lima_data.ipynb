{
 "cells": [
  {
   "cell_type": "code",
   "execution_count": 2,
   "metadata": {},
   "outputs": [],
   "source": [
    "from datasets import load_dataset, DatasetDict\n",
    "import pandas as pd\n",
    "import numpy as np\n"
   ]
  },
  {
   "cell_type": "code",
   "execution_count": 3,
   "metadata": {},
   "outputs": [],
   "source": [
    "seed = 42"
   ]
  },
  {
   "cell_type": "code",
   "execution_count": 30,
   "metadata": {},
   "outputs": [
    {
     "name": "stderr",
     "output_type": "stream",
     "text": [
      "Found cached dataset lima (/home/user/kew/.cache/huggingface/datasets/GAIR___lima/plain_text/0.0.1/f882fbf63e999e19fc8841fab01c292dd00433ae9bc4f0f177b0b1c484771179)\n",
      "100%|██████████| 2/2 [00:00<00:00, 575.98it/s]\n",
      "Loading cached processed dataset at /home/user/kew/.cache/huggingface/datasets/GAIR___lima/plain_text/0.0.1/f882fbf63e999e19fc8841fab01c292dd00433ae9bc4f0f177b0b1c484771179/cache-098a2ae0a215e6d7.arrow\n",
      "Loading cached processed dataset at /home/user/kew/.cache/huggingface/datasets/GAIR___lima/plain_text/0.0.1/f882fbf63e999e19fc8841fab01c292dd00433ae9bc4f0f177b0b1c484771179/cache-7a5a10206dbedf49.arrow\n"
     ]
    },
    {
     "name": "stdout",
     "output_type": "stream",
     "text": [
      "DatasetDict({\n",
      "    train: Dataset({\n",
      "        features: ['conversations', 'source', 'text', 'id'],\n",
      "        num_rows: 1030\n",
      "    })\n",
      "    test: Dataset({\n",
      "        features: ['conversations', 'source', 'text', 'id'],\n",
      "        num_rows: 300\n",
      "    })\n",
      "})\n",
      "{'conversations': ['Can brain cells move? By movement I mean long distance migration (preferably within the brain only).', 'The question is relatively broad and one should take into account that the brain not only consists of neurons, but also glial cells (supportive cells) and pre-mitotic neuronal stem cells. Furthermore, as critical fellow-scientists have indicated, developmental stage is very important, as the developing embryonic brain is very different from the adult brain.\\nHowever, after sifting through various publications, the answer to the question is actually remarkably simple: Yes, brain cells migrate.\\nIn  the adult brain glial cells migrate in the brain (Klämbt, 2009). Glial cells are involved in a myriad of functions, but a notable example of migrating glial cells are the oligodendrocytes that migrate relative long distances to find their target axons onto which they wrap themselves to form the insulating myelin sheath (Tsai and Miller, 2002).\\nNeuronal stem cells migrate over long distances in response to injury (Imitola et al., 2004) and they migrate from specific stem-cell locations (e.g., hippocampus and subventricular zone) to other regions (Clarke, 2003).\\nPost-mitotic, but non-differentiated neurons have been shown to migrate in the adult brain in fish (Scott et al., 2012), and in mammals and non-human primates as well (Sawada et al., 2011).\\nNot surprisingly, glial cells, stem cells and neurons also migrate during embryonic development. Most notably, post-mitotic neurons destined to fulfill peripheral functions have to migrate over relatively long distances from the neural crest to their target locations (Neuroscience, 2nd ed, Neuronal Migration).'], 'source': 'stackexchange', 'text': '### Human: Can brain cells move? By movement I mean long distance migration (preferably within the brain only).### Assistant: The question is relatively broad and one should take into account that the brain not only consists of neurons, but also glial cells (supportive cells) and pre-mitotic neuronal stem cells. Furthermore, as critical fellow-scientists have indicated, developmental stage is very important, as the developing embryonic brain is very different from the adult brain.\\nHowever, after sifting through various publications, the answer to the question is actually remarkably simple: Yes, brain cells migrate.\\nIn  the adult brain glial cells migrate in the brain (Klämbt, 2009). Glial cells are involved in a myriad of functions, but a notable example of migrating glial cells are the oligodendrocytes that migrate relative long distances to find their target axons onto which they wrap themselves to form the insulating myelin sheath (Tsai and Miller, 2002).\\nNeuronal stem cells migrate over long distances in response to injury (Imitola et al., 2004) and they migrate from specific stem-cell locations (e.g., hippocampus and subventricular zone) to other regions (Clarke, 2003).\\nPost-mitotic, but non-differentiated neurons have been shown to migrate in the adult brain in fish (Scott et al., 2012), and in mammals and non-human primates as well (Sawada et al., 2011).\\nNot surprisingly, glial cells, stem cells and neurons also migrate during embryonic development. Most notably, post-mitotic neurons destined to fulfill peripheral functions have to migrate over relatively long distances from the neural crest to their target locations (Neuroscience, 2nd ed, Neuronal Migration).', 'id': 0}\n"
     ]
    },
    {
     "name": "stderr",
     "output_type": "stream",
     "text": [
      "Creating json from Arrow format: 100%|██████████| 2/2 [00:00<00:00, 16.46ba/s]\n",
      "Creating json from Arrow format: 100%|██████████| 1/1 [00:00<00:00, 204.67ba/s]\n"
     ]
    },
    {
     "data": {
      "text/plain": [
       "91644"
      ]
     },
     "execution_count": 30,
     "metadata": {},
     "output_type": "execute_result"
    }
   ],
   "source": [
    "lima_dataset = load_dataset('GAIR/lima')\n",
    "\n",
    "# prepend roles\n",
    "def prepend_role(example):\n",
    "    \"\"\"Prepares LIMA instances to match format of Guanaco\"\"\"\n",
    "    example['text'] = []\n",
    "    for i, text in enumerate(example['conversations']):\n",
    "        if i % 2 == 0:\n",
    "            example['text'].append('### Human: ' + text.strip())\n",
    "        else:\n",
    "            example['text'].append('### Assistant: ' + text.strip())\n",
    "    \n",
    "    example['text'] = ''.join(example['text'])\n",
    "\n",
    "    return example\n",
    "\n",
    "lima_dataset['train'] = lima_dataset['train'].map(prepend_role)\n",
    "lima_dataset['test'] = lima_dataset['test'].map(prepend_role)\n",
    "lima_dataset['train'] = lima_dataset['train'].add_column('id', np.arange(len(lima_dataset['train'])))\n",
    "lima_dataset['test'] = lima_dataset['test'].add_column('id', np.arange(len(lima_dataset['test'])))\n",
    "\n",
    "print(lima_dataset)\n",
    "print(lima_dataset['train'][0])\n",
    "\n",
    "# save to file\n",
    "lima_dataset['train'].to_json('data/lima_train_en.json', orient='records', lines=True, force_ascii=False, index=False)\n",
    "lima_dataset['test'].to_json('data/lima_test_en.json', orient='records', lines=True, force_ascii=False, index=False)"
   ]
  },
  {
   "cell_type": "code",
   "execution_count": 26,
   "metadata": {},
   "outputs": [
    {
     "data": {
      "text/plain": [
       "['_TF_DATASET_REFS',\n",
       " '__class__',\n",
       " '__del__',\n",
       " '__delattr__',\n",
       " '__dict__',\n",
       " '__dir__',\n",
       " '__doc__',\n",
       " '__enter__',\n",
       " '__eq__',\n",
       " '__exit__',\n",
       " '__format__',\n",
       " '__ge__',\n",
       " '__getattribute__',\n",
       " '__getitem__',\n",
       " '__getitems__',\n",
       " '__gt__',\n",
       " '__hash__',\n",
       " '__init__',\n",
       " '__init_subclass__',\n",
       " '__iter__',\n",
       " '__le__',\n",
       " '__len__',\n",
       " '__lt__',\n",
       " '__module__',\n",
       " '__ne__',\n",
       " '__new__',\n",
       " '__reduce__',\n",
       " '__reduce_ex__',\n",
       " '__repr__',\n",
       " '__setattr__',\n",
       " '__sizeof__',\n",
       " '__slotnames__',\n",
       " '__str__',\n",
       " '__subclasshook__',\n",
       " '__weakref__',\n",
       " '_build_local_temp_path',\n",
       " '_check_index_is_initialized',\n",
       " '_data',\n",
       " '_estimate_nbytes',\n",
       " '_fingerprint',\n",
       " '_format_columns',\n",
       " '_format_kwargs',\n",
       " '_format_type',\n",
       " '_generate_tables_from_cache_file',\n",
       " '_generate_tables_from_shards',\n",
       " '_get_cache_file_path',\n",
       " '_get_output_signature',\n",
       " '_getitem',\n",
       " '_indexes',\n",
       " '_indices',\n",
       " '_info',\n",
       " '_map_single',\n",
       " '_new_dataset_with_indices',\n",
       " '_output_all_columns',\n",
       " '_push_parquet_shards_to_hub',\n",
       " '_save_to_disk_single',\n",
       " '_select_contiguous',\n",
       " '_select_with_indices_mapping',\n",
       " '_split',\n",
       " 'add_column',\n",
       " 'add_elasticsearch_index',\n",
       " 'add_faiss_index',\n",
       " 'add_faiss_index_from_external_arrays',\n",
       " 'add_item',\n",
       " 'align_labels_with_mapping',\n",
       " 'builder_name',\n",
       " 'cache_files',\n",
       " 'cast',\n",
       " 'cast_column',\n",
       " 'citation',\n",
       " 'class_encode_column',\n",
       " 'cleanup_cache_files',\n",
       " 'column_names',\n",
       " 'config_name',\n",
       " 'data',\n",
       " 'dataset_size',\n",
       " 'description',\n",
       " 'download_checksums',\n",
       " 'download_size',\n",
       " 'drop_index',\n",
       " 'export',\n",
       " 'features',\n",
       " 'filter',\n",
       " 'flatten',\n",
       " 'flatten_indices',\n",
       " 'format',\n",
       " 'formatted_as',\n",
       " 'from_buffer',\n",
       " 'from_csv',\n",
       " 'from_dict',\n",
       " 'from_file',\n",
       " 'from_generator',\n",
       " 'from_json',\n",
       " 'from_list',\n",
       " 'from_pandas',\n",
       " 'from_parquet',\n",
       " 'from_spark',\n",
       " 'from_sql',\n",
       " 'from_text',\n",
       " 'get_index',\n",
       " 'get_nearest_examples',\n",
       " 'get_nearest_examples_batch',\n",
       " 'homepage',\n",
       " 'info',\n",
       " 'is_index_initialized',\n",
       " 'iter',\n",
       " 'license',\n",
       " 'list_indexes',\n",
       " 'load_elasticsearch_index',\n",
       " 'load_faiss_index',\n",
       " 'load_from_disk',\n",
       " 'map',\n",
       " 'num_columns',\n",
       " 'num_rows',\n",
       " 'prepare_for_task',\n",
       " 'push_to_hub',\n",
       " 'remove_columns',\n",
       " 'rename_column',\n",
       " 'rename_columns',\n",
       " 'reset_format',\n",
       " 'save_faiss_index',\n",
       " 'save_to_disk',\n",
       " 'search',\n",
       " 'search_batch',\n",
       " 'select',\n",
       " 'select_columns',\n",
       " 'set_format',\n",
       " 'set_transform',\n",
       " 'shape',\n",
       " 'shard',\n",
       " 'shuffle',\n",
       " 'size_in_bytes',\n",
       " 'sort',\n",
       " 'split',\n",
       " 'supervised_keys',\n",
       " 'task_templates',\n",
       " 'to_csv',\n",
       " 'to_dict',\n",
       " 'to_iterable_dataset',\n",
       " 'to_json',\n",
       " 'to_list',\n",
       " 'to_pandas',\n",
       " 'to_parquet',\n",
       " 'to_sql',\n",
       " 'to_tf_dataset',\n",
       " 'train_test_split',\n",
       " 'unique',\n",
       " 'version',\n",
       " 'with_format',\n",
       " 'with_transform']"
      ]
     },
     "execution_count": 26,
     "metadata": {},
     "output_type": "execute_result"
    }
   ],
   "source": [
    "# lima_dataset['train']).to_json('data/lima_train_en.json', lines=True)\n",
    "dir(lima_dataset['train'])"
   ]
  },
  {
   "cell_type": "code",
   "execution_count": 5,
   "metadata": {},
   "outputs": [
    {
     "name": "stderr",
     "output_type": "stream",
     "text": [
      "Downloading readme: 100%|██████████| 8.48k/8.48k [00:00<00:00, 20.2MB/s]\n"
     ]
    },
    {
     "name": "stdout",
     "output_type": "stream",
     "text": [
      "Downloading and preparing dataset None/None to /home/user/kew/.cache/huggingface/datasets/argilla___parquet/argilla--databricks-dolly-15k-curated-multilingual-689355e8f2754010/0.0.0/14a00e99c0d15a23649d0db8944380ac81082d4b021f398733dd84f3a6c569a7...\n"
     ]
    },
    {
     "name": "stderr",
     "output_type": "stream",
     "text": [
      "Downloading data: 100%|██████████| 16.7M/16.7M [00:01<00:00, 14.7MB/s]\n",
      "Downloading data: 100%|██████████| 15.5M/15.5M [00:00<00:00, 16.5MB/s]\n",
      "Downloading data: 100%|██████████| 16.5M/16.5M [00:01<00:00, 16.2MB/s]\n",
      "Downloading data: 100%|██████████| 16.9M/16.9M [00:00<00:00, 17.3MB/s]\n",
      "Downloading data files: 100%|██████████| 4/4 [00:08<00:00,  2.21s/it]\n",
      "Extracting data files: 100%|██████████| 4/4 [00:00<00:00, 119.77it/s]\n",
      "                                                                                    \r"
     ]
    },
    {
     "name": "stdout",
     "output_type": "stream",
     "text": [
      "Dataset parquet downloaded and prepared to /home/user/kew/.cache/huggingface/datasets/argilla___parquet/argilla--databricks-dolly-15k-curated-multilingual-689355e8f2754010/0.0.0/14a00e99c0d15a23649d0db8944380ac81082d4b021f398733dd84f3a6c569a7. Subsequent calls will reuse this data.\n"
     ]
    },
    {
     "name": "stderr",
     "output_type": "stream",
     "text": [
      "100%|██████████| 4/4 [00:00<00:00, 56.40it/s]\n"
     ]
    },
    {
     "data": {
      "text/plain": [
       "DatasetDict({\n",
       "    de: Dataset({\n",
       "        features: ['instruction', 'context', 'response', 'category', 'instruction_original_en', 'context_original_en', 'response_original_en', 'id'],\n",
       "        num_rows: 15015\n",
       "    })\n",
       "    en: Dataset({\n",
       "        features: ['instruction', 'context', 'response', 'category', 'instruction_original_en', 'context_original_en', 'response_original_en', 'id'],\n",
       "        num_rows: 15015\n",
       "    })\n",
       "    es: Dataset({\n",
       "        features: ['instruction', 'context', 'response', 'category', 'instruction_original_en', 'context_original_en', 'response_original_en', 'id'],\n",
       "        num_rows: 15015\n",
       "    })\n",
       "    fr: Dataset({\n",
       "        features: ['instruction', 'context', 'response', 'category', 'instruction_original_en', 'context_original_en', 'response_original_en', 'id'],\n",
       "        num_rows: 15015\n",
       "    })\n",
       "})"
      ]
     },
     "execution_count": 5,
     "metadata": {},
     "output_type": "execute_result"
    }
   ],
   "source": [
    "# load the original dataset\n",
    "ml_data = load_dataset('argilla/databricks-dolly-15k-curated-multilingual')\n",
    "\n",
    "data = load_dataset('kunishou/databricks-dolly-15k-ja')\n",
    "\n",
    "\n",
    "ml_data"
   ]
  },
  {
   "cell_type": "code",
   "execution_count": null,
   "metadata": {},
   "outputs": [],
   "source": [
    "# add id column\n",
    "data['train'] = data['train'].add_column('id', np.arange(len(data['train'])))"
   ]
  },
  {
   "cell_type": "code",
   "execution_count": null,
   "metadata": {},
   "outputs": [],
   "source": [
    "# assign train, test, and validation sets\n",
    "ds_train_devtest = data['train'].train_test_split(test_size=0.2, seed=seed)\n",
    "ds_devtest = ds_train_devtest['test'].train_test_split(test_size=0.5, seed=seed)\n",
    "\n",
    "ds_splits = DatasetDict({\n",
    "    'train': ds_train_devtest['train'],\n",
    "    'valid': ds_devtest['train'],\n",
    "    'test': ds_devtest['test']\n",
    "})\n",
    "\n",
    "ds_splits"
   ]
  },
  {
   "cell_type": "code",
   "execution_count": 8,
   "metadata": {},
   "outputs": [
    {
     "data": {
      "text/plain": [
       "{'instruction': ['Why do humans need to have friends?',\n",
       "  'Give me a bulleted list of the different ways coffee can be brewed.'],\n",
       " 'context': ['',\n",
       "  \"Coffee drinks are made by brewing water with ground coffee beans. The brewing is either done slowly by drip, filter, French press, cafetière or percolator, or done very quickly under pressure by an espresso machine. When put under the pressure of an espresso machine, the coffee is termed espresso while slow-brewed coffees are generally termed brewed coffee. While all coffee drinks are based on either coffee or espresso, some drinks add milk or cream, some are made with steamed milk or non-dairy milks, or add water (like the americano). Upon milk additions, coffee's flavor can vary with different syrups or sweeteners, alcoholic liqueurs, and even combinations of coffee with espresso or tea. There are many variations to the basic coffee or espresso bases.\"],\n",
       " 'response': ['Having friends may seem simple to many; however, making friends might seem pointless for some. Have someone who will be there for you and reassure humans. Many might say they do not need a friend since they have a significant other; however, your significant other should always be your friend. A friend is always there for you, will not judge you, and will always tell you what you are doing wrong. And it is necessary for someone to have someone like that.',\n",
       "  'Different methods of brewing coffee:\\n- Slow-brewed coffee\\n  - Drip\\n  - Filter\\n  - French press\\n  - Cafetière\\n  - Percolator\\n- Espresso machine'],\n",
       " 'category': ['general_qa', 'summarization'],\n",
       " 'id': [4300, 11438]}"
      ]
     },
     "execution_count": 8,
     "metadata": {},
     "output_type": "execute_result"
    }
   ],
   "source": [
    "ds_splits['test'][:2]"
   ]
  },
  {
   "cell_type": "code",
   "execution_count": 9,
   "metadata": {},
   "outputs": [
    {
     "name": "stderr",
     "output_type": "stream",
     "text": [
      "Downloading readme: 100%|██████████| 355/355 [00:00<00:00, 1.81MB/s]\n"
     ]
    },
    {
     "name": "stdout",
     "output_type": "stream",
     "text": [
      "Downloading and preparing dataset json/kunishou--databricks-dolly-15k-ja to /home/user/kew/.cache/huggingface/datasets/kunishou___json/kunishou--databricks-dolly-15k-ja-6459e484ab1ecf5e/0.0.0/e347ab1c932092252e717ff3f949105a4dd28b27e842dd53157d2f72e276c2e4...\n"
     ]
    },
    {
     "name": "stderr",
     "output_type": "stream",
     "text": [
      "Downloading data: 100%|██████████| 17.1M/17.1M [00:00<00:00, 85.9MB/s]\n",
      "Downloading data files: 100%|██████████| 1/1 [00:00<00:00,  1.50it/s]\n",
      "Extracting data files: 100%|██████████| 1/1 [00:00<00:00, 112.80it/s]\n",
      "                                                                   \r"
     ]
    },
    {
     "name": "stdout",
     "output_type": "stream",
     "text": [
      "Dataset json downloaded and prepared to /home/user/kew/.cache/huggingface/datasets/kunishou___json/kunishou--databricks-dolly-15k-ja-6459e484ab1ecf5e/0.0.0/e347ab1c932092252e717ff3f949105a4dd28b27e842dd53157d2f72e276c2e4. Subsequent calls will reuse this data.\n"
     ]
    },
    {
     "name": "stderr",
     "output_type": "stream",
     "text": [
      "100%|██████████| 1/1 [00:00<00:00, 43.10it/s]\n"
     ]
    },
    {
     "data": {
      "text/plain": [
       "DatasetDict({\n",
       "    train: Dataset({\n",
       "        features: ['category', 'index', 'input', 'output', 'instruction'],\n",
       "        num_rows: 15015\n",
       "    })\n",
       "})"
      ]
     },
     "execution_count": 9,
     "metadata": {},
     "output_type": "execute_result"
    }
   ],
   "source": [
    "# 'argilla/databricks-dolly-15k-curated-multilingual' # https://huggingface.co/datasets/argilla/databricks-dolly-15k-curated-multilingual\n",
    "\n",
    "# load_dataset(\"argilla/databricks-dolly-15k-curated-multilingual\", split=\"es\")\n",
    "\n",
    "# data = load_dataset('dim/databricks_dolly_15k_ru')\n",
    "# data\n",
    "# data = load_dataset('nlpai-lab/databricks-dolly-15k-ko')\n",
    "\n",
    "\n",
    "data"
   ]
  },
  {
   "cell_type": "code",
   "execution_count": 10,
   "metadata": {},
   "outputs": [
    {
     "data": {
      "text/plain": [
       "{'category': 'creative_writing',\n",
       " 'index': '5021',\n",
       " 'input': '',\n",
       " 'output': 'グレン：「男、最近ひどい気分なんだ。ただ、最悪の不安だ。ソーシャルメディアに時間をかけすぎてしまったんだ。\"\\n\\nラシード：「そうですね。気分が台無しになることもある。私は、あまり参加せず、ただコンテンツを消費するようにすると効果があると思います。それもキュレーションして。政治ネタや下ネタがないように、時間をかけてチェックするんだ」。\\n\\nグレン：「それは無理だ。すぐカッとなってしまうんだ。猫に関する記事を読んでいたら、コメント欄で誰かが猫の飼い主はバカだと言い出して、僕が返事をしたら、僕の夜は台無しだよ。\"\\n\\nラシード：\"コメントは絶対に読まないでください！\"<笑>とあります。\\n\\nグレン：「わかってるよ！でも、それについてだけ言っているんじゃないんだ。Twitterをやっていると、よくわからないけど、怒りや荒らし、否定的な意見ばかり目につくんだ。そして、それが私を苦しめる。何もかもが悪く思えてくるんです」。\\n\\nラシード：「だからこそ、サイトが提供するツールを使って、自分が見るものを積極的にキュレーションする必要があるのです。人々やブランドをブロックする。迷惑な友人を排除する。自分が参加する話題のカテゴリーを選び、絞り込む。自分が求めていないものをアルゴリズムに伝えるのです。完璧ではありませんが、最近では、Facebookでは家族のこと、猫のこと、エキゾチックカーのことしか見なくなりました。PinterestやInstagramも同じです。\"\\n\\nグレン「それにしても、インターネットはいつも私を騙そうとしているように感じる。広告、金銭の要求、あらゆる種類の詐欺、メール詐欺。資本主義を謳歌しているようで、こっちも疲れる。しかし、私はそれに関わるのをやめることができないようだ！\"\\n\\nラシード：「では、実際に管理できる範囲に時間を限定しましょう。必要であれば、タイマーを設定しましょう。自分がコントロールできるアプリ、効果的にキュレーションできるアプリに集中するんだ。インターネットを自分のために使うんだ。コミュニティを見つけつつも、参加する前に疑心暗鬼になり、よく調べてみること。そして、世渡り上手になりましょう。詐欺だと思ったら、おそらくそうだろう。  立ち去りましょう。\\n\\nグレン：\"外に出ろって言われると思ったのに！\"\\n\\nラシード：\"さて、その前に...\"',\n",
       " 'instruction': 'ソーシャルメディアが彼らの生活に与える影響について、2人の登場人物の間で話し合うダイアログを作成してください。対話では、ソーシャルメディアが社会に与えるポジティブな影響とネガティブな影響の両方を探る必要があります。'}"
      ]
     },
     "execution_count": 10,
     "metadata": {},
     "output_type": "execute_result"
    }
   ],
   "source": [
    "data['train'][5021]"
   ]
  },
  {
   "cell_type": "code",
   "execution_count": null,
   "metadata": {},
   "outputs": [],
   "source": []
  }
 ],
 "metadata": {
  "kernelspec": {
   "display_name": "vllm",
   "language": "python",
   "name": "python3"
  },
  "language_info": {
   "codemirror_mode": {
    "name": "ipython",
    "version": 3
   },
   "file_extension": ".py",
   "mimetype": "text/x-python",
   "name": "python",
   "nbconvert_exporter": "python",
   "pygments_lexer": "ipython3",
   "version": "3.10.0"
  }
 },
 "nbformat": 4,
 "nbformat_minor": 2
}
